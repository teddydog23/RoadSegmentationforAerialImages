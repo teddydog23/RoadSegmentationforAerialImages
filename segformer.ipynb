{
  "cells": [
    {
      "cell_type": "code",
      "execution_count": null,
      "id": "19ca793c",
      "metadata": {},
      "outputs": [],
      "source": [
        "import os\n",
        "import torch\n",
        "import time\n",
        "import torch.nn as nn\n",
        "from torch.utils.tensorboard import SummaryWriter\n",
        "from torch.utils.data import DataLoader\n",
        "from tqdm import tqdm\n",
        "\n",
        "from data.dataset2 import RoadDatasetSegFormer\n",
        "from loss.loss import bce_dice_loss\n",
        "from utils.early_stopping import EarlyStopping\n",
        "from utils.save_load import save_model\n",
        "from config.optimizer import get_optimizer, get_scheduler\n",
        "from utils.metrics import compute_metrics"
      ]
    },
    {
      "cell_type": "code",
      "execution_count": 7,
      "id": "6ef538de",
      "metadata": {
        "id": "6ef538de"
      },
      "outputs": [],
      "source": [
        "device = torch.device(\"cuda\" if torch.cuda.is_available() else \"cpu\")"
      ]
    },
    {
      "cell_type": "code",
      "execution_count": 8,
      "id": "3796eead",
      "metadata": {
        "id": "3796eead"
      },
      "outputs": [],
      "source": [
        "batch_size = 4\n",
        "num_epochs = 50\n",
        "lr = 1e-4\n",
        "log_dir = 'logs'\n",
        "model_path = 'checkpoints/segformer_model_best.pth'\n",
        "csv_path = 'data/512/split.csv'\n",
        "image_dir = 'data/512/images'\n",
        "mask_dir = 'data/512/masks'"
      ]
    },
    {
      "cell_type": "code",
      "execution_count": null,
      "id": "OQCGWnxj30a7",
      "metadata": {
        "id": "OQCGWnxj30a7"
      },
      "outputs": [],
      "source": [
        "train_dataset = RoadDatasetSegFormer(csv_path, image_dir, mask_dir, split='train', augment=True)\n",
        "val_dataset = RoadDatasetSegFormer(csv_path, image_dir, mask_dir, split='val', augment=False)\n",
        "train_loader = DataLoader(train_dataset, batch_size=batch_size, shuffle=True, num_workers=0)\n",
        "val_loader = DataLoader(val_dataset, batch_size=batch_size, shuffle=False, num_workers=0)"
      ]
    },
    {
      "cell_type": "code",
      "execution_count": null,
      "id": "a71ce242",
      "metadata": {
        "colab": {
          "base_uri": "https://localhost:8080/"
        },
        "id": "a71ce242",
        "outputId": "49d9f68c-5274-408d-a3d0-e52a965fe890"
      },
      "outputs": [
        {
          "name": "stderr",
          "output_type": "stream",
          "text": [
            "Some weights of SegformerForSemanticSegmentation were not initialized from the model checkpoint at nvidia/segformer-b1-finetuned-ade-512-512 and are newly initialized because the shapes did not match:\n",
            "- decode_head.classifier.weight: found shape torch.Size([150, 256, 1, 1]) in the checkpoint and torch.Size([1, 256, 1, 1]) in the model instantiated\n",
            "- decode_head.classifier.bias: found shape torch.Size([150]) in the checkpoint and torch.Size([1]) in the model instantiated\n",
            "You should probably TRAIN this model on a down-stream task to be able to use it for predictions and inference.\n"
          ]
        },
        {
          "data": {
            "text/plain": [
              "SegformerForSemanticSegmentation(\n",
              "  (segformer): SegformerModel(\n",
              "    (encoder): SegformerEncoder(\n",
              "      (patch_embeddings): ModuleList(\n",
              "        (0): SegformerOverlapPatchEmbeddings(\n",
              "          (proj): Conv2d(3, 64, kernel_size=(7, 7), stride=(4, 4), padding=(3, 3))\n",
              "          (layer_norm): LayerNorm((64,), eps=1e-05, elementwise_affine=True)\n",
              "        )\n",
              "        (1): SegformerOverlapPatchEmbeddings(\n",
              "          (proj): Conv2d(64, 128, kernel_size=(3, 3), stride=(2, 2), padding=(1, 1))\n",
              "          (layer_norm): LayerNorm((128,), eps=1e-05, elementwise_affine=True)\n",
              "        )\n",
              "        (2): SegformerOverlapPatchEmbeddings(\n",
              "          (proj): Conv2d(128, 320, kernel_size=(3, 3), stride=(2, 2), padding=(1, 1))\n",
              "          (layer_norm): LayerNorm((320,), eps=1e-05, elementwise_affine=True)\n",
              "        )\n",
              "        (3): SegformerOverlapPatchEmbeddings(\n",
              "          (proj): Conv2d(320, 512, kernel_size=(3, 3), stride=(2, 2), padding=(1, 1))\n",
              "          (layer_norm): LayerNorm((512,), eps=1e-05, elementwise_affine=True)\n",
              "        )\n",
              "      )\n",
              "      (block): ModuleList(\n",
              "        (0): ModuleList(\n",
              "          (0): SegformerLayer(\n",
              "            (layer_norm_1): LayerNorm((64,), eps=1e-05, elementwise_affine=True)\n",
              "            (attention): SegformerAttention(\n",
              "              (self): SegformerEfficientSelfAttention(\n",
              "                (query): Linear(in_features=64, out_features=64, bias=True)\n",
              "                (key): Linear(in_features=64, out_features=64, bias=True)\n",
              "                (value): Linear(in_features=64, out_features=64, bias=True)\n",
              "                (dropout): Dropout(p=0.0, inplace=False)\n",
              "                (sr): Conv2d(64, 64, kernel_size=(8, 8), stride=(8, 8))\n",
              "                (layer_norm): LayerNorm((64,), eps=1e-05, elementwise_affine=True)\n",
              "              )\n",
              "              (output): SegformerSelfOutput(\n",
              "                (dense): Linear(in_features=64, out_features=64, bias=True)\n",
              "                (dropout): Dropout(p=0.0, inplace=False)\n",
              "              )\n",
              "            )\n",
              "            (drop_path): Identity()\n",
              "            (layer_norm_2): LayerNorm((64,), eps=1e-05, elementwise_affine=True)\n",
              "            (mlp): SegformerMixFFN(\n",
              "              (dense1): Linear(in_features=64, out_features=256, bias=True)\n",
              "              (dwconv): SegformerDWConv(\n",
              "                (dwconv): Conv2d(256, 256, kernel_size=(3, 3), stride=(1, 1), padding=(1, 1), groups=256)\n",
              "              )\n",
              "              (intermediate_act_fn): GELUActivation()\n",
              "              (dense2): Linear(in_features=256, out_features=64, bias=True)\n",
              "              (dropout): Dropout(p=0.0, inplace=False)\n",
              "            )\n",
              "          )\n",
              "          (1): SegformerLayer(\n",
              "            (layer_norm_1): LayerNorm((64,), eps=1e-05, elementwise_affine=True)\n",
              "            (attention): SegformerAttention(\n",
              "              (self): SegformerEfficientSelfAttention(\n",
              "                (query): Linear(in_features=64, out_features=64, bias=True)\n",
              "                (key): Linear(in_features=64, out_features=64, bias=True)\n",
              "                (value): Linear(in_features=64, out_features=64, bias=True)\n",
              "                (dropout): Dropout(p=0.0, inplace=False)\n",
              "                (sr): Conv2d(64, 64, kernel_size=(8, 8), stride=(8, 8))\n",
              "                (layer_norm): LayerNorm((64,), eps=1e-05, elementwise_affine=True)\n",
              "              )\n",
              "              (output): SegformerSelfOutput(\n",
              "                (dense): Linear(in_features=64, out_features=64, bias=True)\n",
              "                (dropout): Dropout(p=0.0, inplace=False)\n",
              "              )\n",
              "            )\n",
              "            (drop_path): SegformerDropPath(p=0.014285714365541935)\n",
              "            (layer_norm_2): LayerNorm((64,), eps=1e-05, elementwise_affine=True)\n",
              "            (mlp): SegformerMixFFN(\n",
              "              (dense1): Linear(in_features=64, out_features=256, bias=True)\n",
              "              (dwconv): SegformerDWConv(\n",
              "                (dwconv): Conv2d(256, 256, kernel_size=(3, 3), stride=(1, 1), padding=(1, 1), groups=256)\n",
              "              )\n",
              "              (intermediate_act_fn): GELUActivation()\n",
              "              (dense2): Linear(in_features=256, out_features=64, bias=True)\n",
              "              (dropout): Dropout(p=0.0, inplace=False)\n",
              "            )\n",
              "          )\n",
              "        )\n",
              "        (1): ModuleList(\n",
              "          (0): SegformerLayer(\n",
              "            (layer_norm_1): LayerNorm((128,), eps=1e-05, elementwise_affine=True)\n",
              "            (attention): SegformerAttention(\n",
              "              (self): SegformerEfficientSelfAttention(\n",
              "                (query): Linear(in_features=128, out_features=128, bias=True)\n",
              "                (key): Linear(in_features=128, out_features=128, bias=True)\n",
              "                (value): Linear(in_features=128, out_features=128, bias=True)\n",
              "                (dropout): Dropout(p=0.0, inplace=False)\n",
              "                (sr): Conv2d(128, 128, kernel_size=(4, 4), stride=(4, 4))\n",
              "                (layer_norm): LayerNorm((128,), eps=1e-05, elementwise_affine=True)\n",
              "              )\n",
              "              (output): SegformerSelfOutput(\n",
              "                (dense): Linear(in_features=128, out_features=128, bias=True)\n",
              "                (dropout): Dropout(p=0.0, inplace=False)\n",
              "              )\n",
              "            )\n",
              "            (drop_path): SegformerDropPath(p=0.02857142873108387)\n",
              "            (layer_norm_2): LayerNorm((128,), eps=1e-05, elementwise_affine=True)\n",
              "            (mlp): SegformerMixFFN(\n",
              "              (dense1): Linear(in_features=128, out_features=512, bias=True)\n",
              "              (dwconv): SegformerDWConv(\n",
              "                (dwconv): Conv2d(512, 512, kernel_size=(3, 3), stride=(1, 1), padding=(1, 1), groups=512)\n",
              "              )\n",
              "              (intermediate_act_fn): GELUActivation()\n",
              "              (dense2): Linear(in_features=512, out_features=128, bias=True)\n",
              "              (dropout): Dropout(p=0.0, inplace=False)\n",
              "            )\n",
              "          )\n",
              "          (1): SegformerLayer(\n",
              "            (layer_norm_1): LayerNorm((128,), eps=1e-05, elementwise_affine=True)\n",
              "            (attention): SegformerAttention(\n",
              "              (self): SegformerEfficientSelfAttention(\n",
              "                (query): Linear(in_features=128, out_features=128, bias=True)\n",
              "                (key): Linear(in_features=128, out_features=128, bias=True)\n",
              "                (value): Linear(in_features=128, out_features=128, bias=True)\n",
              "                (dropout): Dropout(p=0.0, inplace=False)\n",
              "                (sr): Conv2d(128, 128, kernel_size=(4, 4), stride=(4, 4))\n",
              "                (layer_norm): LayerNorm((128,), eps=1e-05, elementwise_affine=True)\n",
              "              )\n",
              "              (output): SegformerSelfOutput(\n",
              "                (dense): Linear(in_features=128, out_features=128, bias=True)\n",
              "                (dropout): Dropout(p=0.0, inplace=False)\n",
              "              )\n",
              "            )\n",
              "            (drop_path): SegformerDropPath(p=0.04285714402794838)\n",
              "            (layer_norm_2): LayerNorm((128,), eps=1e-05, elementwise_affine=True)\n",
              "            (mlp): SegformerMixFFN(\n",
              "              (dense1): Linear(in_features=128, out_features=512, bias=True)\n",
              "              (dwconv): SegformerDWConv(\n",
              "                (dwconv): Conv2d(512, 512, kernel_size=(3, 3), stride=(1, 1), padding=(1, 1), groups=512)\n",
              "              )\n",
              "              (intermediate_act_fn): GELUActivation()\n",
              "              (dense2): Linear(in_features=512, out_features=128, bias=True)\n",
              "              (dropout): Dropout(p=0.0, inplace=False)\n",
              "            )\n",
              "          )\n",
              "        )\n",
              "        (2): ModuleList(\n",
              "          (0): SegformerLayer(\n",
              "            (layer_norm_1): LayerNorm((320,), eps=1e-05, elementwise_affine=True)\n",
              "            (attention): SegformerAttention(\n",
              "              (self): SegformerEfficientSelfAttention(\n",
              "                (query): Linear(in_features=320, out_features=320, bias=True)\n",
              "                (key): Linear(in_features=320, out_features=320, bias=True)\n",
              "                (value): Linear(in_features=320, out_features=320, bias=True)\n",
              "                (dropout): Dropout(p=0.0, inplace=False)\n",
              "                (sr): Conv2d(320, 320, kernel_size=(2, 2), stride=(2, 2))\n",
              "                (layer_norm): LayerNorm((320,), eps=1e-05, elementwise_affine=True)\n",
              "              )\n",
              "              (output): SegformerSelfOutput(\n",
              "                (dense): Linear(in_features=320, out_features=320, bias=True)\n",
              "                (dropout): Dropout(p=0.0, inplace=False)\n",
              "              )\n",
              "            )\n",
              "            (drop_path): SegformerDropPath(p=0.05714285746216774)\n",
              "            (layer_norm_2): LayerNorm((320,), eps=1e-05, elementwise_affine=True)\n",
              "            (mlp): SegformerMixFFN(\n",
              "              (dense1): Linear(in_features=320, out_features=1280, bias=True)\n",
              "              (dwconv): SegformerDWConv(\n",
              "                (dwconv): Conv2d(1280, 1280, kernel_size=(3, 3), stride=(1, 1), padding=(1, 1), groups=1280)\n",
              "              )\n",
              "              (intermediate_act_fn): GELUActivation()\n",
              "              (dense2): Linear(in_features=1280, out_features=320, bias=True)\n",
              "              (dropout): Dropout(p=0.0, inplace=False)\n",
              "            )\n",
              "          )\n",
              "          (1): SegformerLayer(\n",
              "            (layer_norm_1): LayerNorm((320,), eps=1e-05, elementwise_affine=True)\n",
              "            (attention): SegformerAttention(\n",
              "              (self): SegformerEfficientSelfAttention(\n",
              "                (query): Linear(in_features=320, out_features=320, bias=True)\n",
              "                (key): Linear(in_features=320, out_features=320, bias=True)\n",
              "                (value): Linear(in_features=320, out_features=320, bias=True)\n",
              "                (dropout): Dropout(p=0.0, inplace=False)\n",
              "                (sr): Conv2d(320, 320, kernel_size=(2, 2), stride=(2, 2))\n",
              "                (layer_norm): LayerNorm((320,), eps=1e-05, elementwise_affine=True)\n",
              "              )\n",
              "              (output): SegformerSelfOutput(\n",
              "                (dense): Linear(in_features=320, out_features=320, bias=True)\n",
              "                (dropout): Dropout(p=0.0, inplace=False)\n",
              "              )\n",
              "            )\n",
              "            (drop_path): SegformerDropPath(p=0.0714285746216774)\n",
              "            (layer_norm_2): LayerNorm((320,), eps=1e-05, elementwise_affine=True)\n",
              "            (mlp): SegformerMixFFN(\n",
              "              (dense1): Linear(in_features=320, out_features=1280, bias=True)\n",
              "              (dwconv): SegformerDWConv(\n",
              "                (dwconv): Conv2d(1280, 1280, kernel_size=(3, 3), stride=(1, 1), padding=(1, 1), groups=1280)\n",
              "              )\n",
              "              (intermediate_act_fn): GELUActivation()\n",
              "              (dense2): Linear(in_features=1280, out_features=320, bias=True)\n",
              "              (dropout): Dropout(p=0.0, inplace=False)\n",
              "            )\n",
              "          )\n",
              "        )\n",
              "        (3): ModuleList(\n",
              "          (0): SegformerLayer(\n",
              "            (layer_norm_1): LayerNorm((512,), eps=1e-05, elementwise_affine=True)\n",
              "            (attention): SegformerAttention(\n",
              "              (self): SegformerEfficientSelfAttention(\n",
              "                (query): Linear(in_features=512, out_features=512, bias=True)\n",
              "                (key): Linear(in_features=512, out_features=512, bias=True)\n",
              "                (value): Linear(in_features=512, out_features=512, bias=True)\n",
              "                (dropout): Dropout(p=0.0, inplace=False)\n",
              "              )\n",
              "              (output): SegformerSelfOutput(\n",
              "                (dense): Linear(in_features=512, out_features=512, bias=True)\n",
              "                (dropout): Dropout(p=0.0, inplace=False)\n",
              "              )\n",
              "            )\n",
              "            (drop_path): SegformerDropPath(p=0.08571428805589676)\n",
              "            (layer_norm_2): LayerNorm((512,), eps=1e-05, elementwise_affine=True)\n",
              "            (mlp): SegformerMixFFN(\n",
              "              (dense1): Linear(in_features=512, out_features=2048, bias=True)\n",
              "              (dwconv): SegformerDWConv(\n",
              "                (dwconv): Conv2d(2048, 2048, kernel_size=(3, 3), stride=(1, 1), padding=(1, 1), groups=2048)\n",
              "              )\n",
              "              (intermediate_act_fn): GELUActivation()\n",
              "              (dense2): Linear(in_features=2048, out_features=512, bias=True)\n",
              "              (dropout): Dropout(p=0.0, inplace=False)\n",
              "            )\n",
              "          )\n",
              "          (1): SegformerLayer(\n",
              "            (layer_norm_1): LayerNorm((512,), eps=1e-05, elementwise_affine=True)\n",
              "            (attention): SegformerAttention(\n",
              "              (self): SegformerEfficientSelfAttention(\n",
              "                (query): Linear(in_features=512, out_features=512, bias=True)\n",
              "                (key): Linear(in_features=512, out_features=512, bias=True)\n",
              "                (value): Linear(in_features=512, out_features=512, bias=True)\n",
              "                (dropout): Dropout(p=0.0, inplace=False)\n",
              "              )\n",
              "              (output): SegformerSelfOutput(\n",
              "                (dense): Linear(in_features=512, out_features=512, bias=True)\n",
              "                (dropout): Dropout(p=0.0, inplace=False)\n",
              "              )\n",
              "            )\n",
              "            (drop_path): SegformerDropPath(p=0.10000000149011612)\n",
              "            (layer_norm_2): LayerNorm((512,), eps=1e-05, elementwise_affine=True)\n",
              "            (mlp): SegformerMixFFN(\n",
              "              (dense1): Linear(in_features=512, out_features=2048, bias=True)\n",
              "              (dwconv): SegformerDWConv(\n",
              "                (dwconv): Conv2d(2048, 2048, kernel_size=(3, 3), stride=(1, 1), padding=(1, 1), groups=2048)\n",
              "              )\n",
              "              (intermediate_act_fn): GELUActivation()\n",
              "              (dense2): Linear(in_features=2048, out_features=512, bias=True)\n",
              "              (dropout): Dropout(p=0.0, inplace=False)\n",
              "            )\n",
              "          )\n",
              "        )\n",
              "      )\n",
              "      (layer_norm): ModuleList(\n",
              "        (0): LayerNorm((64,), eps=1e-05, elementwise_affine=True)\n",
              "        (1): LayerNorm((128,), eps=1e-05, elementwise_affine=True)\n",
              "        (2): LayerNorm((320,), eps=1e-05, elementwise_affine=True)\n",
              "        (3): LayerNorm((512,), eps=1e-05, elementwise_affine=True)\n",
              "      )\n",
              "    )\n",
              "  )\n",
              "  (decode_head): SegformerDecodeHead(\n",
              "    (linear_c): ModuleList(\n",
              "      (0): SegformerMLP(\n",
              "        (proj): Linear(in_features=64, out_features=256, bias=True)\n",
              "      )\n",
              "      (1): SegformerMLP(\n",
              "        (proj): Linear(in_features=128, out_features=256, bias=True)\n",
              "      )\n",
              "      (2): SegformerMLP(\n",
              "        (proj): Linear(in_features=320, out_features=256, bias=True)\n",
              "      )\n",
              "      (3): SegformerMLP(\n",
              "        (proj): Linear(in_features=512, out_features=256, bias=True)\n",
              "      )\n",
              "    )\n",
              "    (linear_fuse): Conv2d(1024, 256, kernel_size=(1, 1), stride=(1, 1), bias=False)\n",
              "    (batch_norm): BatchNorm2d(256, eps=1e-05, momentum=0.1, affine=True, track_running_stats=True)\n",
              "    (activation): ReLU()\n",
              "    (dropout): Dropout(p=0.1, inplace=False)\n",
              "    (classifier): Conv2d(256, 1, kernel_size=(1, 1), stride=(1, 1))\n",
              "  )\n",
              ")"
            ]
          },
          "execution_count": 13,
          "metadata": {},
          "output_type": "execute_result"
        }
      ],
      "source": [
        "from transformers import SegformerForSemanticSegmentation\n",
        "num_classes = 1\n",
        "\n",
        "model = SegformerForSemanticSegmentation.from_pretrained(\n",
        "    'nvidia/segformer-b1-finetuned-ade-512-512',\n",
        "    ignore_mismatched_sizes=True,\n",
        "    num_labels=num_classes,\n",
        ")\n",
        "optimizer = get_optimizer(model, lr)\n",
        "early_stopping = EarlyStopping(patience=10, mode='min')\n",
        "scheduler = get_scheduler(optimizer, mode='min')"
      ]
    },
    {
      "cell_type": "code",
      "execution_count": 12,
      "id": "063aa627",
      "metadata": {
        "id": "063aa627"
      },
      "outputs": [],
      "source": [
        "writer = SummaryWriter(log_dir)\n",
        "log_txt = open(os.path.join(log_dir, 'train_log_seg.txt'), 'w')"
      ]
    },
    {
      "cell_type": "code",
      "execution_count": null,
      "id": "YxmRLtSUD2rU",
      "metadata": {
        "colab": {
          "base_uri": "https://localhost:8080/",
          "height": 211
        },
        "id": "YxmRLtSUD2rU",
        "outputId": "1c2f5d04-5b31-4f94-e980-d0f8759e6e2d"
      },
      "outputs": [
        {
          "name": "stdout",
          "output_type": "stream",
          "text": [
            "\n",
            "🟢 Epoch [1/50]\n"
          ]
        },
        {
          "name": "stderr",
          "output_type": "stream",
          "text": [
            "Training: 100%|██████████| 1295/1295 [03:52<00:00,  5.57it/s]\n",
            "Validation: 100%|██████████| 278/278 [00:33<00:00,  8.38it/s]\n"
          ]
        },
        {
          "name": "stdout",
          "output_type": "stream",
          "text": [
            "🔹 Train Loss: 0.7822 | Val Loss: 0.5476 | Dice: 0.5917 | IoU: 0.4407 | mIoU: 0.4407\n",
            "✅ Model improved. Saved.\n",
            "\n",
            "🟢 Epoch [2/50]\n"
          ]
        },
        {
          "name": "stderr",
          "output_type": "stream",
          "text": [
            "Training: 100%|██████████| 1295/1295 [02:15<00:00,  9.54it/s]\n",
            "Validation: 100%|██████████| 278/278 [00:10<00:00, 26.32it/s]\n"
          ]
        },
        {
          "name": "stdout",
          "output_type": "stream",
          "text": [
            "🔹 Train Loss: 0.5503 | Val Loss: 0.5113 | Dice: 0.6166 | IoU: 0.4670 | mIoU: 0.4670\n",
            "✅ Model improved. Saved.\n",
            "\n",
            "🟢 Epoch [3/50]\n"
          ]
        },
        {
          "name": "stderr",
          "output_type": "stream",
          "text": [
            "Training: 100%|██████████| 1295/1295 [02:15<00:00,  9.59it/s]\n",
            "Validation: 100%|██████████| 278/278 [00:10<00:00, 26.97it/s]\n"
          ]
        },
        {
          "name": "stdout",
          "output_type": "stream",
          "text": [
            "🔹 Train Loss: 0.5212 | Val Loss: 0.4880 | Dice: 0.6376 | IoU: 0.4889 | mIoU: 0.4889\n",
            "✅ Model improved. Saved.\n",
            "\n",
            "🟢 Epoch [4/50]\n"
          ]
        },
        {
          "name": "stderr",
          "output_type": "stream",
          "text": [
            "Training: 100%|██████████| 1295/1295 [02:14<00:00,  9.59it/s]\n",
            "Validation: 100%|██████████| 278/278 [00:10<00:00, 26.81it/s]\n"
          ]
        },
        {
          "name": "stdout",
          "output_type": "stream",
          "text": [
            "🔹 Train Loss: 0.5068 | Val Loss: 0.4880 | Dice: 0.6350 | IoU: 0.4869 | mIoU: 0.4869\n",
            "\n",
            "🟢 Epoch [5/50]\n"
          ]
        },
        {
          "name": "stderr",
          "output_type": "stream",
          "text": [
            "Training: 100%|██████████| 1295/1295 [02:14<00:00,  9.62it/s]\n",
            "Validation: 100%|██████████| 278/278 [00:10<00:00, 26.86it/s]\n"
          ]
        },
        {
          "name": "stdout",
          "output_type": "stream",
          "text": [
            "🔹 Train Loss: 0.4896 | Val Loss: 0.5063 | Dice: 0.6239 | IoU: 0.4738 | mIoU: 0.4738\n",
            "\n",
            "🟢 Epoch [6/50]\n"
          ]
        },
        {
          "name": "stderr",
          "output_type": "stream",
          "text": [
            "Training: 100%|██████████| 1295/1295 [02:14<00:00,  9.62it/s]\n",
            "Validation: 100%|██████████| 278/278 [00:10<00:00, 26.94it/s]\n"
          ]
        },
        {
          "name": "stdout",
          "output_type": "stream",
          "text": [
            "🔹 Train Loss: 0.4845 | Val Loss: 0.4713 | Dice: 0.6477 | IoU: 0.4996 | mIoU: 0.4996\n",
            "✅ Model improved. Saved.\n",
            "\n",
            "🟢 Epoch [7/50]\n"
          ]
        },
        {
          "name": "stderr",
          "output_type": "stream",
          "text": [
            "Training: 100%|██████████| 1295/1295 [02:14<00:00,  9.60it/s]\n",
            "Validation: 100%|██████████| 278/278 [00:10<00:00, 26.67it/s]\n"
          ]
        },
        {
          "name": "stdout",
          "output_type": "stream",
          "text": [
            "🔹 Train Loss: 0.4737 | Val Loss: 0.4543 | Dice: 0.6628 | IoU: 0.5167 | mIoU: 0.5167\n",
            "✅ Model improved. Saved.\n",
            "\n",
            "🟢 Epoch [8/50]\n"
          ]
        },
        {
          "name": "stderr",
          "output_type": "stream",
          "text": [
            "Training: 100%|██████████| 1295/1295 [02:14<00:00,  9.61it/s]\n",
            "Validation: 100%|██████████| 278/278 [00:10<00:00, 26.94it/s]\n"
          ]
        },
        {
          "name": "stdout",
          "output_type": "stream",
          "text": [
            "🔹 Train Loss: 0.4673 | Val Loss: 0.4503 | Dice: 0.6652 | IoU: 0.5192 | mIoU: 0.5192\n",
            "✅ Model improved. Saved.\n",
            "\n",
            "🟢 Epoch [9/50]\n"
          ]
        },
        {
          "name": "stderr",
          "output_type": "stream",
          "text": [
            "Training: 100%|██████████| 1295/1295 [02:15<00:00,  9.59it/s]\n",
            "Validation: 100%|██████████| 278/278 [00:10<00:00, 26.73it/s]\n"
          ]
        },
        {
          "name": "stdout",
          "output_type": "stream",
          "text": [
            "🔹 Train Loss: 0.4637 | Val Loss: 0.4562 | Dice: 0.6596 | IoU: 0.5134 | mIoU: 0.5134\n",
            "\n",
            "🟢 Epoch [10/50]\n"
          ]
        },
        {
          "name": "stderr",
          "output_type": "stream",
          "text": [
            "Training: 100%|██████████| 1295/1295 [02:14<00:00,  9.62it/s]\n",
            "Validation: 100%|██████████| 278/278 [00:10<00:00, 26.99it/s]\n"
          ]
        },
        {
          "name": "stdout",
          "output_type": "stream",
          "text": [
            "🔹 Train Loss: 0.4596 | Val Loss: 0.4543 | Dice: 0.6622 | IoU: 0.5168 | mIoU: 0.5168\n",
            "\n",
            "🟢 Epoch [11/50]\n"
          ]
        },
        {
          "name": "stderr",
          "output_type": "stream",
          "text": [
            "Training: 100%|██████████| 1295/1295 [02:14<00:00,  9.62it/s]\n",
            "Validation: 100%|██████████| 278/278 [00:10<00:00, 26.93it/s]\n"
          ]
        },
        {
          "name": "stdout",
          "output_type": "stream",
          "text": [
            "🔹 Train Loss: 0.4538 | Val Loss: 0.4444 | Dice: 0.6695 | IoU: 0.5241 | mIoU: 0.5241\n",
            "✅ Model improved. Saved.\n",
            "\n",
            "🟢 Epoch [12/50]\n"
          ]
        },
        {
          "name": "stderr",
          "output_type": "stream",
          "text": [
            "Training: 100%|██████████| 1295/1295 [02:14<00:00,  9.60it/s]\n",
            "Validation: 100%|██████████| 278/278 [00:10<00:00, 26.91it/s]\n"
          ]
        },
        {
          "name": "stdout",
          "output_type": "stream",
          "text": [
            "🔹 Train Loss: 0.4487 | Val Loss: 0.4460 | Dice: 0.6658 | IoU: 0.5201 | mIoU: 0.5201\n",
            "\n",
            "🟢 Epoch [13/50]\n"
          ]
        },
        {
          "name": "stderr",
          "output_type": "stream",
          "text": [
            "Training: 100%|██████████| 1295/1295 [02:14<00:00,  9.63it/s]\n",
            "Validation: 100%|██████████| 278/278 [00:10<00:00, 26.83it/s]\n"
          ]
        },
        {
          "name": "stdout",
          "output_type": "stream",
          "text": [
            "🔹 Train Loss: 0.4474 | Val Loss: 0.4528 | Dice: 0.6630 | IoU: 0.5171 | mIoU: 0.5171\n",
            "\n",
            "🟢 Epoch [14/50]\n"
          ]
        },
        {
          "name": "stderr",
          "output_type": "stream",
          "text": [
            "Training: 100%|██████████| 1295/1295 [02:14<00:00,  9.63it/s]\n",
            "Validation: 100%|██████████| 278/278 [00:10<00:00, 26.72it/s]\n"
          ]
        },
        {
          "name": "stdout",
          "output_type": "stream",
          "text": [
            "🔹 Train Loss: 0.4438 | Val Loss: 0.4390 | Dice: 0.6729 | IoU: 0.5279 | mIoU: 0.5279\n",
            "✅ Model improved. Saved.\n",
            "\n",
            "🟢 Epoch [15/50]\n"
          ]
        },
        {
          "name": "stderr",
          "output_type": "stream",
          "text": [
            "Training: 100%|██████████| 1295/1295 [02:14<00:00,  9.60it/s]\n",
            "Validation: 100%|██████████| 278/278 [00:10<00:00, 26.91it/s]\n"
          ]
        },
        {
          "name": "stdout",
          "output_type": "stream",
          "text": [
            "🔹 Train Loss: 0.4412 | Val Loss: 0.4476 | Dice: 0.6690 | IoU: 0.5231 | mIoU: 0.5231\n",
            "\n",
            "🟢 Epoch [16/50]\n"
          ]
        },
        {
          "name": "stderr",
          "output_type": "stream",
          "text": [
            "Training: 100%|██████████| 1295/1295 [02:14<00:00,  9.62it/s]\n",
            "Validation: 100%|██████████| 278/278 [00:10<00:00, 26.94it/s]\n"
          ]
        },
        {
          "name": "stdout",
          "output_type": "stream",
          "text": [
            "🔹 Train Loss: 0.4344 | Val Loss: 0.4400 | Dice: 0.6706 | IoU: 0.5263 | mIoU: 0.5263\n",
            "\n",
            "🟢 Epoch [17/50]\n"
          ]
        },
        {
          "name": "stderr",
          "output_type": "stream",
          "text": [
            "Training: 100%|██████████| 1295/1295 [02:14<00:00,  9.62it/s]\n",
            "Validation: 100%|██████████| 278/278 [00:10<00:00, 26.90it/s]\n"
          ]
        },
        {
          "name": "stdout",
          "output_type": "stream",
          "text": [
            "🔹 Train Loss: 0.4331 | Val Loss: 0.4279 | Dice: 0.6840 | IoU: 0.5403 | mIoU: 0.5403\n",
            "✅ Model improved. Saved.\n",
            "\n",
            "🟢 Epoch [18/50]\n"
          ]
        },
        {
          "name": "stderr",
          "output_type": "stream",
          "text": [
            "Training: 100%|██████████| 1295/1295 [02:14<00:00,  9.60it/s]\n",
            "Validation: 100%|██████████| 278/278 [00:10<00:00, 26.86it/s]\n"
          ]
        },
        {
          "name": "stdout",
          "output_type": "stream",
          "text": [
            "🔹 Train Loss: 0.4314 | Val Loss: 0.4289 | Dice: 0.6806 | IoU: 0.5371 | mIoU: 0.5371\n",
            "\n",
            "🟢 Epoch [19/50]\n"
          ]
        },
        {
          "name": "stderr",
          "output_type": "stream",
          "text": [
            "Training: 100%|██████████| 1295/1295 [02:14<00:00,  9.62it/s]\n",
            "Validation: 100%|██████████| 278/278 [00:10<00:00, 26.71it/s]\n"
          ]
        },
        {
          "name": "stdout",
          "output_type": "stream",
          "text": [
            "🔹 Train Loss: 0.4281 | Val Loss: 0.4452 | Dice: 0.6668 | IoU: 0.5232 | mIoU: 0.5232\n",
            "\n",
            "🟢 Epoch [20/50]\n"
          ]
        },
        {
          "name": "stderr",
          "output_type": "stream",
          "text": [
            "Training: 100%|██████████| 1295/1295 [02:18<00:00,  9.34it/s]\n",
            "Validation: 100%|██████████| 278/278 [00:10<00:00, 26.85it/s]\n"
          ]
        },
        {
          "name": "stdout",
          "output_type": "stream",
          "text": [
            "🔹 Train Loss: 0.4265 | Val Loss: 0.4229 | Dice: 0.6869 | IoU: 0.5440 | mIoU: 0.5440\n",
            "✅ Model improved. Saved.\n",
            "\n",
            "🟢 Epoch [21/50]\n"
          ]
        },
        {
          "name": "stderr",
          "output_type": "stream",
          "text": [
            "Training: 100%|██████████| 1295/1295 [02:15<00:00,  9.55it/s]\n",
            "Validation: 100%|██████████| 278/278 [00:10<00:00, 26.77it/s]\n"
          ]
        },
        {
          "name": "stdout",
          "output_type": "stream",
          "text": [
            "🔹 Train Loss: 0.4245 | Val Loss: 0.4180 | Dice: 0.6899 | IoU: 0.5472 | mIoU: 0.5472\n",
            "✅ Model improved. Saved.\n",
            "\n",
            "🟢 Epoch [22/50]\n"
          ]
        },
        {
          "name": "stderr",
          "output_type": "stream",
          "text": [
            "Training: 100%|██████████| 1295/1295 [02:27<00:00,  8.77it/s]\n",
            "Validation: 100%|██████████| 278/278 [00:13<00:00, 21.33it/s]\n"
          ]
        },
        {
          "name": "stdout",
          "output_type": "stream",
          "text": [
            "🔹 Train Loss: 0.4239 | Val Loss: 0.4233 | Dice: 0.6855 | IoU: 0.5421 | mIoU: 0.5421\n",
            "\n",
            "🟢 Epoch [23/50]\n"
          ]
        },
        {
          "name": "stderr",
          "output_type": "stream",
          "text": [
            "Training: 100%|██████████| 1295/1295 [02:32<00:00,  8.51it/s]\n",
            "Validation: 100%|██████████| 278/278 [00:12<00:00, 21.80it/s]\n"
          ]
        },
        {
          "name": "stdout",
          "output_type": "stream",
          "text": [
            "🔹 Train Loss: 0.4191 | Val Loss: 0.4198 | Dice: 0.6888 | IoU: 0.5460 | mIoU: 0.5460\n",
            "\n",
            "🟢 Epoch [24/50]\n"
          ]
        },
        {
          "name": "stderr",
          "output_type": "stream",
          "text": [
            "Training: 100%|██████████| 1295/1295 [02:30<00:00,  8.61it/s]\n",
            "Validation: 100%|██████████| 278/278 [00:12<00:00, 21.59it/s]\n"
          ]
        },
        {
          "name": "stdout",
          "output_type": "stream",
          "text": [
            "🔹 Train Loss: 0.4223 | Val Loss: 0.4173 | Dice: 0.6899 | IoU: 0.5477 | mIoU: 0.5477\n",
            "✅ Model improved. Saved.\n",
            "\n",
            "🟢 Epoch [25/50]\n"
          ]
        },
        {
          "name": "stderr",
          "output_type": "stream",
          "text": [
            "Training: 100%|██████████| 1295/1295 [02:29<00:00,  8.67it/s]\n",
            "Validation: 100%|██████████| 278/278 [00:12<00:00, 21.97it/s]\n"
          ]
        },
        {
          "name": "stdout",
          "output_type": "stream",
          "text": [
            "🔹 Train Loss: 0.4151 | Val Loss: 0.4223 | Dice: 0.6868 | IoU: 0.5443 | mIoU: 0.5443\n",
            "\n",
            "🟢 Epoch [26/50]\n"
          ]
        },
        {
          "name": "stderr",
          "output_type": "stream",
          "text": [
            "Training: 100%|██████████| 1295/1295 [02:30<00:00,  8.62it/s]\n",
            "Validation: 100%|██████████| 278/278 [00:12<00:00, 21.63it/s]\n"
          ]
        },
        {
          "name": "stdout",
          "output_type": "stream",
          "text": [
            "🔹 Train Loss: 0.4140 | Val Loss: 0.4173 | Dice: 0.6901 | IoU: 0.5477 | mIoU: 0.5477\n",
            "✅ Model improved. Saved.\n",
            "\n",
            "🟢 Epoch [27/50]\n"
          ]
        },
        {
          "name": "stderr",
          "output_type": "stream",
          "text": [
            "Training: 100%|██████████| 1295/1295 [02:30<00:00,  8.62it/s]\n",
            "Validation: 100%|██████████| 278/278 [00:12<00:00, 21.61it/s]\n"
          ]
        },
        {
          "name": "stdout",
          "output_type": "stream",
          "text": [
            "🔹 Train Loss: 0.4138 | Val Loss: 0.4156 | Dice: 0.6917 | IoU: 0.5498 | mIoU: 0.5498\n",
            "✅ Model improved. Saved.\n",
            "\n",
            "🟢 Epoch [28/50]\n"
          ]
        },
        {
          "name": "stderr",
          "output_type": "stream",
          "text": [
            "Training: 100%|██████████| 1295/1295 [02:29<00:00,  8.64it/s]\n",
            "Validation: 100%|██████████| 278/278 [00:12<00:00, 21.39it/s]\n"
          ]
        },
        {
          "name": "stdout",
          "output_type": "stream",
          "text": [
            "🔹 Train Loss: 0.4087 | Val Loss: 0.4133 | Dice: 0.6922 | IoU: 0.5507 | mIoU: 0.5507\n",
            "✅ Model improved. Saved.\n",
            "\n",
            "🟢 Epoch [29/50]\n"
          ]
        },
        {
          "name": "stderr",
          "output_type": "stream",
          "text": [
            "Training: 100%|██████████| 1295/1295 [02:30<00:00,  8.61it/s]\n",
            "Validation: 100%|██████████| 278/278 [00:12<00:00, 22.02it/s]\n"
          ]
        },
        {
          "name": "stdout",
          "output_type": "stream",
          "text": [
            "🔹 Train Loss: 0.4105 | Val Loss: 0.4110 | Dice: 0.6964 | IoU: 0.5550 | mIoU: 0.5550\n",
            "✅ Model improved. Saved.\n",
            "\n",
            "🟢 Epoch [30/50]\n"
          ]
        },
        {
          "name": "stderr",
          "output_type": "stream",
          "text": [
            "Training: 100%|██████████| 1295/1295 [02:29<00:00,  8.63it/s]\n",
            "Validation: 100%|██████████| 278/278 [00:12<00:00, 21.92it/s]\n"
          ]
        },
        {
          "name": "stdout",
          "output_type": "stream",
          "text": [
            "🔹 Train Loss: 0.4117 | Val Loss: 0.4203 | Dice: 0.6880 | IoU: 0.5453 | mIoU: 0.5453\n",
            "\n",
            "🟢 Epoch [31/50]\n"
          ]
        },
        {
          "name": "stderr",
          "output_type": "stream",
          "text": [
            "Training: 100%|██████████| 1295/1295 [02:30<00:00,  8.62it/s]\n",
            "Validation: 100%|██████████| 278/278 [00:12<00:00, 22.17it/s]\n"
          ]
        },
        {
          "name": "stdout",
          "output_type": "stream",
          "text": [
            "🔹 Train Loss: 0.4049 | Val Loss: 0.4087 | Dice: 0.6969 | IoU: 0.5559 | mIoU: 0.5559\n",
            "✅ Model improved. Saved.\n",
            "\n",
            "🟢 Epoch [32/50]\n"
          ]
        },
        {
          "name": "stderr",
          "output_type": "stream",
          "text": [
            "Training: 100%|██████████| 1295/1295 [02:28<00:00,  8.73it/s]\n",
            "Validation: 100%|██████████| 278/278 [00:13<00:00, 21.28it/s]\n"
          ]
        },
        {
          "name": "stdout",
          "output_type": "stream",
          "text": [
            "🔹 Train Loss: 0.4034 | Val Loss: 0.4093 | Dice: 0.6974 | IoU: 0.5564 | mIoU: 0.5564\n",
            "✅ Model improved. Saved.\n",
            "\n",
            "🟢 Epoch [33/50]\n"
          ]
        },
        {
          "name": "stderr",
          "output_type": "stream",
          "text": [
            "Training: 100%|██████████| 1295/1295 [02:26<00:00,  8.82it/s]\n",
            "Validation: 100%|██████████| 278/278 [00:12<00:00, 21.74it/s]\n"
          ]
        },
        {
          "name": "stdout",
          "output_type": "stream",
          "text": [
            "🔹 Train Loss: 0.4051 | Val Loss: 0.4156 | Dice: 0.6896 | IoU: 0.5478 | mIoU: 0.5478\n",
            "\n",
            "🟢 Epoch [34/50]\n"
          ]
        },
        {
          "name": "stderr",
          "output_type": "stream",
          "text": [
            "Training: 100%|██████████| 1295/1295 [02:27<00:00,  8.81it/s]\n",
            "Validation: 100%|██████████| 278/278 [00:12<00:00, 21.67it/s]\n"
          ]
        },
        {
          "name": "stdout",
          "output_type": "stream",
          "text": [
            "🔹 Train Loss: 0.4028 | Val Loss: 0.4110 | Dice: 0.6959 | IoU: 0.5543 | mIoU: 0.5543\n",
            "\n",
            "🟢 Epoch [35/50]\n"
          ]
        },
        {
          "name": "stderr",
          "output_type": "stream",
          "text": [
            "Training: 100%|██████████| 1295/1295 [02:29<00:00,  8.64it/s]\n",
            "Validation: 100%|██████████| 278/278 [00:13<00:00, 21.23it/s]\n"
          ]
        },
        {
          "name": "stdout",
          "output_type": "stream",
          "text": [
            "🔹 Train Loss: 0.4033 | Val Loss: 0.4107 | Dice: 0.6959 | IoU: 0.5537 | mIoU: 0.5537\n",
            "\n",
            "🟢 Epoch [36/50]\n"
          ]
        },
        {
          "name": "stderr",
          "output_type": "stream",
          "text": [
            "Training: 100%|██████████| 1295/1295 [02:26<00:00,  8.81it/s]\n",
            "Validation: 100%|██████████| 278/278 [00:13<00:00, 21.27it/s]\n"
          ]
        },
        {
          "name": "stdout",
          "output_type": "stream",
          "text": [
            "🔹 Train Loss: 0.3998 | Val Loss: 0.4049 | Dice: 0.7004 | IoU: 0.5595 | mIoU: 0.5595\n",
            "✅ Model improved. Saved.\n",
            "\n",
            "🟢 Epoch [37/50]\n"
          ]
        },
        {
          "name": "stderr",
          "output_type": "stream",
          "text": [
            "Training: 100%|██████████| 1295/1295 [02:30<00:00,  8.61it/s]\n",
            "Validation: 100%|██████████| 278/278 [00:12<00:00, 21.88it/s]\n"
          ]
        },
        {
          "name": "stdout",
          "output_type": "stream",
          "text": [
            "🔹 Train Loss: 0.3987 | Val Loss: 0.4252 | Dice: 0.6839 | IoU: 0.5415 | mIoU: 0.5415\n",
            "\n",
            "🟢 Epoch [38/50]\n"
          ]
        },
        {
          "name": "stderr",
          "output_type": "stream",
          "text": [
            "Training: 100%|██████████| 1295/1295 [02:27<00:00,  8.79it/s]\n",
            "Validation: 100%|██████████| 278/278 [00:12<00:00, 22.14it/s]\n"
          ]
        },
        {
          "name": "stdout",
          "output_type": "stream",
          "text": [
            "🔹 Train Loss: 0.3974 | Val Loss: 0.4030 | Dice: 0.7017 | IoU: 0.5615 | mIoU: 0.5615\n",
            "✅ Model improved. Saved.\n",
            "\n",
            "🟢 Epoch [39/50]\n"
          ]
        },
        {
          "name": "stderr",
          "output_type": "stream",
          "text": [
            "Training: 100%|██████████| 1295/1295 [02:28<00:00,  8.73it/s]\n",
            "Validation: 100%|██████████| 278/278 [00:12<00:00, 21.71it/s]\n"
          ]
        },
        {
          "name": "stdout",
          "output_type": "stream",
          "text": [
            "🔹 Train Loss: 0.3998 | Val Loss: 0.4070 | Dice: 0.6990 | IoU: 0.5583 | mIoU: 0.5583\n",
            "\n",
            "🟢 Epoch [40/50]\n"
          ]
        },
        {
          "name": "stderr",
          "output_type": "stream",
          "text": [
            "Training: 100%|██████████| 1295/1295 [02:26<00:00,  8.82it/s]\n",
            "Validation: 100%|██████████| 278/278 [00:13<00:00, 21.26it/s]\n"
          ]
        },
        {
          "name": "stdout",
          "output_type": "stream",
          "text": [
            "🔹 Train Loss: 0.3916 | Val Loss: 0.4074 | Dice: 0.6973 | IoU: 0.5560 | mIoU: 0.5560\n",
            "\n",
            "🟢 Epoch [41/50]\n"
          ]
        },
        {
          "name": "stderr",
          "output_type": "stream",
          "text": [
            "Training: 100%|██████████| 1295/1295 [02:27<00:00,  8.77it/s]\n",
            "Validation: 100%|██████████| 278/278 [00:12<00:00, 21.99it/s]\n"
          ]
        },
        {
          "name": "stdout",
          "output_type": "stream",
          "text": [
            "🔹 Train Loss: 0.3920 | Val Loss: 0.4044 | Dice: 0.7006 | IoU: 0.5598 | mIoU: 0.5598\n",
            "\n",
            "🟢 Epoch [42/50]\n"
          ]
        },
        {
          "name": "stderr",
          "output_type": "stream",
          "text": [
            "Training: 100%|██████████| 1295/1295 [02:19<00:00,  9.26it/s]\n",
            "Validation: 100%|██████████| 278/278 [00:10<00:00, 27.07it/s]\n"
          ]
        },
        {
          "name": "stdout",
          "output_type": "stream",
          "text": [
            "🔹 Train Loss: 0.3913 | Val Loss: 0.4042 | Dice: 0.7010 | IoU: 0.5611 | mIoU: 0.5611\n",
            "\n",
            "🟢 Epoch [43/50]\n"
          ]
        },
        {
          "name": "stderr",
          "output_type": "stream",
          "text": [
            "Training: 100%|██████████| 1295/1295 [02:14<00:00,  9.62it/s]\n",
            "Validation: 100%|██████████| 278/278 [00:10<00:00, 26.72it/s]\n"
          ]
        },
        {
          "name": "stdout",
          "output_type": "stream",
          "text": [
            "🔹 Train Loss: 0.3912 | Val Loss: 0.4012 | Dice: 0.7032 | IoU: 0.5626 | mIoU: 0.5626\n",
            "✅ Model improved. Saved.\n",
            "\n",
            "🟢 Epoch [44/50]\n"
          ]
        },
        {
          "name": "stderr",
          "output_type": "stream",
          "text": [
            "Training: 100%|██████████| 1295/1295 [02:26<00:00,  8.87it/s]\n",
            "Validation: 100%|██████████| 278/278 [00:12<00:00, 21.95it/s]\n"
          ]
        },
        {
          "name": "stdout",
          "output_type": "stream",
          "text": [
            "🔹 Train Loss: 0.3908 | Val Loss: 0.4020 | Dice: 0.7024 | IoU: 0.5623 | mIoU: 0.5623\n",
            "\n",
            "🟢 Epoch [45/50]\n"
          ]
        },
        {
          "name": "stderr",
          "output_type": "stream",
          "text": [
            "Training: 100%|██████████| 1295/1295 [02:26<00:00,  8.83it/s]\n",
            "Validation: 100%|██████████| 278/278 [00:12<00:00, 21.92it/s]\n"
          ]
        },
        {
          "name": "stdout",
          "output_type": "stream",
          "text": [
            "🔹 Train Loss: 0.3887 | Val Loss: 0.4062 | Dice: 0.6989 | IoU: 0.5575 | mIoU: 0.5575\n",
            "\n",
            "🟢 Epoch [46/50]\n"
          ]
        },
        {
          "name": "stderr",
          "output_type": "stream",
          "text": [
            "Training: 100%|██████████| 1295/1295 [02:26<00:00,  8.82it/s]\n",
            "Validation: 100%|██████████| 278/278 [00:12<00:00, 22.09it/s]\n"
          ]
        },
        {
          "name": "stdout",
          "output_type": "stream",
          "text": [
            "🔹 Train Loss: 0.3869 | Val Loss: 0.4032 | Dice: 0.7001 | IoU: 0.5595 | mIoU: 0.5595\n",
            "\n",
            "🟢 Epoch [47/50]\n"
          ]
        },
        {
          "name": "stderr",
          "output_type": "stream",
          "text": [
            "Training: 100%|██████████| 1295/1295 [02:27<00:00,  8.79it/s]\n",
            "Validation: 100%|██████████| 278/278 [00:12<00:00, 21.81it/s]\n"
          ]
        },
        {
          "name": "stdout",
          "output_type": "stream",
          "text": [
            "🔹 Train Loss: 0.3888 | Val Loss: 0.4048 | Dice: 0.7015 | IoU: 0.5606 | mIoU: 0.5606\n",
            "\n",
            "🟢 Epoch [48/50]\n"
          ]
        },
        {
          "name": "stderr",
          "output_type": "stream",
          "text": [
            "Training: 100%|██████████| 1295/1295 [02:28<00:00,  8.70it/s]\n",
            "Validation: 100%|██████████| 278/278 [00:10<00:00, 25.29it/s]\n"
          ]
        },
        {
          "name": "stdout",
          "output_type": "stream",
          "text": [
            "🔹 Train Loss: 0.3835 | Val Loss: 0.3963 | Dice: 0.7075 | IoU: 0.5681 | mIoU: 0.5681\n",
            "✅ Model improved. Saved.\n",
            "\n",
            "🟢 Epoch [49/50]\n"
          ]
        },
        {
          "name": "stderr",
          "output_type": "stream",
          "text": [
            "Training: 100%|██████████| 1295/1295 [02:27<00:00,  8.80it/s]\n",
            "Validation: 100%|██████████| 278/278 [00:12<00:00, 22.25it/s]\n"
          ]
        },
        {
          "name": "stdout",
          "output_type": "stream",
          "text": [
            "🔹 Train Loss: 0.3841 | Val Loss: 0.3968 | Dice: 0.7068 | IoU: 0.5672 | mIoU: 0.5672\n",
            "\n",
            "🟢 Epoch [50/50]\n"
          ]
        },
        {
          "name": "stderr",
          "output_type": "stream",
          "text": [
            "Training: 100%|██████████| 1295/1295 [02:28<00:00,  8.73it/s]\n",
            "Validation: 100%|██████████| 278/278 [00:12<00:00, 22.05it/s]\n"
          ]
        },
        {
          "name": "stdout",
          "output_type": "stream",
          "text": [
            "🔹 Train Loss: 0.3883 | Val Loss: 0.4035 | Dice: 0.7002 | IoU: 0.5602 | mIoU: 0.5602\n",
            "🏁 Training completed.\n"
          ]
        }
      ],
      "source": [
        "# === Training Loop ===\n",
        "best_dice = 0.0\n",
        "for epoch in range(num_epochs):\n",
        "    print(f\"\\n🟢 Epoch [{epoch+1}/{num_epochs}]\")\n",
        "    model.train()\n",
        "    train_loss = 0\n",
        "\n",
        "    for imgs, masks in tqdm(train_loader, desc='Training'):\n",
        "        imgs, masks = imgs.to(device), masks.to(device)\n",
        "        optimizer.zero_grad()\n",
        "        outputs = model(imgs)\n",
        "        logits = outputs.logits\n",
        "        logits = F.interpolate(logits, size=masks.shape[2:], mode='bilinear', align_corners=False)\n",
        "        preds = torch.sigmoid(logits)\n",
        "        loss = bce_dice_loss(preds, masks)\n",
        "        loss.backward()\n",
        "        optimizer.step()\n",
        "        train_loss += loss.item()\n",
        "\n",
        "    train_loss /= len(train_loader)\n",
        "\n",
        "    # === Validation ===\n",
        "    model.eval()\n",
        "    val_loss = 0\n",
        "    all_preds = []\n",
        "    all_masks = []\n",
        "\n",
        "    with torch.no_grad():\n",
        "        for imgs, masks in tqdm(val_loader, desc='Validation'):\n",
        "            imgs, masks = imgs.to(device), masks.to(device)\n",
        "            outputs = model(imgs)\n",
        "            logits = outputs.logits\n",
        "            logits = F.interpolate(logits, size=masks.shape[2:], mode='bilinear', align_corners=False)\n",
        "            preds = torch.sigmoid(logits)\n",
        "            loss = bce_dice_loss(preds, masks)\n",
        "            val_loss += loss.item()\n",
        "\n",
        "            all_preds.append(preds.cpu())\n",
        "            all_masks.append(masks.cpu())\n",
        "\n",
        "    val_loss /= len(val_loader)\n",
        "    all_preds = torch.cat(all_preds)\n",
        "    all_masks = torch.cat(all_masks)\n",
        "\n",
        "    val_dice, val_iou, val_miou = compute_metrics(all_preds, all_masks, threshold=0.5)\n",
        "\n",
        "    print(f\"🔹 Train Loss: {train_loss:.4f} | Val Loss: {val_loss:.4f} | Dice: {val_dice:.4f} | IoU: {val_iou:.4f} | mIoU: {val_miou:.4f}\")\n",
        "    log_txt.write(f\"Epoch {epoch+1}: train_loss={train_loss:.4f}, val_loss={val_loss:.4f}, dice={val_dice:.4f}, iou={val_iou:.4f}, mIoU: {val_miou:.4f}\\n\")\n",
        "\n",
        "    # === TensorBoard log ===\n",
        "    writer.add_scalar('Loss/train', train_loss, epoch)\n",
        "    writer.add_scalar('Loss/val', val_loss, epoch)\n",
        "    writer.add_scalar('Dice/val', val_dice, epoch)\n",
        "    writer.add_scalar('IoU/val', val_iou, epoch)\n",
        "    writer.add_scalar('mIoU/val', val_miou, epoch)\n",
        "\n",
        "    # === Scheduler + EarlyStopping ===\n",
        "    scheduler.step(val_loss)\n",
        "    early_stopping(val_loss, model)\n",
        "    if early_stopping.early_stop:\n",
        "        print(\"⛔ Early stopping triggered!\")\n",
        "        early_stopping.load_best_weights(model)\n",
        "        break\n",
        "\n",
        "    # === Save model if improved ===\n",
        "    if val_dice > best_dice:\n",
        "        best_dice = val_dice\n",
        "        os.makedirs(os.path.dirname(model_path), exist_ok=True)\n",
        "        save_model(model, model_path, epoch, best_dice)\n",
        "        print(\"✅ Model improved. Saved.\")\n",
        "\n",
        "log_txt.close()\n",
        "writer.close()\n",
        "print(\"🏁 Training completed.\")\n"
      ]
    }
  ],
  "metadata": {
    "accelerator": "GPU",
    "colab": {
      "gpuType": "T4",
      "provenance": []
    },
    "kernelspec": {
      "display_name": "Python 3",
      "name": "python3"
    },
    "language_info": {
      "codemirror_mode": {
        "name": "ipython",
        "version": 3
      },
      "file_extension": ".py",
      "mimetype": "text/x-python",
      "name": "python",
      "nbconvert_exporter": "python",
      "pygments_lexer": "ipython3",
      "version": "3.13.3"
    }
  },
  "nbformat": 4,
  "nbformat_minor": 5
}
