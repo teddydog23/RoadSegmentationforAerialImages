{
 "cells": [
  {
   "cell_type": "code",
   "execution_count": 1,
   "id": "e405eb2f",
   "metadata": {},
   "outputs": [],
   "source": [
    "import os\n",
    "import shutil\n",
    "import glob\n",
    "import csv\n",
    "import cv2\n",
    "from tqdm import tqdm"
   ]
  },
  {
   "cell_type": "code",
   "execution_count": null,
   "id": "2fc8e805",
   "metadata": {},
   "outputs": [],
   "source": [
    "ROOT_DIR = 'data/raw_data'\n",
    "OUTPUT_DIR = 'data/dataset'\n",
    "\n",
    "IMAGE_DIR = os.path.join(OUTPUT_DIR, \"images\")\n",
    "MASK_DIR = os.path.join(OUTPUT_DIR, \"masks\")\n",
    "CSV_PATH = os.path.join(OUTPUT_DIR, \"split.csv\")\n",
    "\n",
    "os.makedirs(IMAGE_DIR, exist_ok=True)\n",
    "os.makedirs(MASK_DIR, exist_ok=True)"
   ]
  },
  {
   "cell_type": "code",
   "execution_count": 9,
   "id": "4ebe298a",
   "metadata": {},
   "outputs": [],
   "source": [
    "def copy(src_img, src_mask, dst_img, dst_mask, split, writer):\n",
    "    shutil.copy(src_img, dst_img)\n",
    "    shutil.copy(src_mask, dst_mask)\n",
    "    writer.writerow({\n",
    "        'filename': os.path.basename(dst_img),\n",
    "        'maskname': os.path.basename(dst_mask),\n",
    "        'split': split\n",
    "    })"
   ]
  },
  {
   "cell_type": "code",
   "execution_count": null,
   "id": "e3e22350",
   "metadata": {},
   "outputs": [],
   "source": [
    "def deepglobe(writer, target_size=(1024, 1024)):\n",
    "    print(\"🔹 Processing DeepGlobe...\")\n",
    "    dg_train = os.path.join(ROOT_DIR, 'DeepGlobe', 'train')\n",
    "    sat_imgs = sorted(glob.glob(os.path.join(dg_train, '*_sat.jpg')))\n",
    "    for idx, img_path in enumerate(tqdm(sat_imgs)):\n",
    "        mask_path = img_path.replace('_sat.jpg', '_mask.png')\n",
    "        if not os.path.exists(mask_path):\n",
    "            continue\n",
    "\n",
    "        img = cv2.imread(img_path, cv2.IMREAD_COLOR)\n",
    "        mask = cv2.imread(mask_path, cv2.IMREAD_GRAYSCALE)\n",
    "\n",
    "        if img is None or mask is None:\n",
    "            print(f\"❌ Failed to read image or mask for {img_path}, {mask_path}\")\n",
    "            continue\n",
    "\n",
    "        img_resized = cv2.resize(img, target_size, interpolation=cv2.INTER_LINEAR)\n",
    "        mask_resized = cv2.resize(mask, target_size, interpolation=cv2.INTER_NEAREST)\n",
    "\n",
    "        img_name = f\"deepglobe_{idx:05d}.jpg\"\n",
    "        mask_name = f\"deepglobe_{idx:05d}.png\"\n",
    "\n",
    "        dst_img = os.path.join(IMAGE_DIR, img_name)\n",
    "        dst_mask = os.path.join(MASK_DIR, mask_name)\n",
    "\n",
    "        cv2.imwrite(dst_img, img_resized)\n",
    "        cv2.imwrite(dst_mask, mask_resized)\n",
    "\n",
    "        writer.writerow({\n",
    "            'filename': img_name,\n",
    "            'maskname': mask_name,\n",
    "            'split': 'train'\n",
    "        })\n",
    "    print(\"✅ DeepGlobe processing complete.\")"
   ]
  },
  {
   "cell_type": "code",
   "execution_count": 11,
   "id": "de9b129d",
   "metadata": {},
   "outputs": [],
   "source": [
    "def massachusetts(writer, target_size=(1024, 1024)):\n",
    "    print(\"🔹 Processing Massachusetts...\")\n",
    "    \n",
    "    mass_root = os.path.join(ROOT_DIR,'Massachusetts_Roads_Dataset', 'tiff')\n",
    "    subsets = ['train', 'val', 'test']\n",
    "    counter = 0\n",
    "\n",
    "    for subset in subsets:\n",
    "        img_dir = os.path.join(mass_root, subset)\n",
    "        mask_dir = os.path.join(mass_root, f\"{subset}_labels\")\n",
    "\n",
    "        img_paths = sorted(glob.glob(os.path.join(img_dir, \"*.tiff\")))\n",
    "        for img_path in tqdm(img_paths):\n",
    "            base_name = os.path.splitext(os.path.basename(img_path))[0]\n",
    "            mask_path = os.path.join(mask_dir, f\"{base_name}.tif\")\n",
    "            if not os.path.exists(mask_path):\n",
    "                print(f\"❌ Mask not found for {img_path}\")\n",
    "                continue\n",
    "\n",
    "            img = cv2.imread(img_path, cv2.IMREAD_COLOR)\n",
    "            mask = cv2.imread(mask_path, cv2.IMREAD_GRAYSCALE)\n",
    "\n",
    "            if img is None or mask is None:\n",
    "                print(f\"❌ Failed to read image or mask for {img_path}, {mask_path}\")\n",
    "                continue\n",
    "\n",
    "            img_resized = cv2.resize(img, target_size, interpolation=cv2.INTER_LINEAR)\n",
    "            mask_resized = cv2.resize(mask, target_size, interpolation=cv2.INTER_NEAREST)\n",
    "\n",
    "            img_name = f\"mass_{counter:05d}.jpg\"\n",
    "            mask_name = f\"mass_{counter:05d}.png\"\n",
    "\n",
    "            dst_img = os.path.join(IMAGE_DIR, img_name)\n",
    "            dst_mask = os.path.join(MASK_DIR, mask_name)\n",
    "\n",
    "            cv2.imwrite(dst_img, img_resized)\n",
    "            cv2.imwrite(dst_mask, mask_resized)\n",
    "\n",
    "            writer.writerow({\n",
    "                'filename': img_name,\n",
    "                'maskname': mask_name,\n",
    "                'split': subset\n",
    "            })\n",
    "\n",
    "            counter += 1\n",
    "\n",
    "    print(\"✅ Massachusetts processing complete.\")"
   ]
  },
  {
   "cell_type": "code",
   "execution_count": 12,
   "id": "2b01502d",
   "metadata": {},
   "outputs": [
    {
     "name": "stdout",
     "output_type": "stream",
     "text": [
      "🚀 Starting dataset preparation...\n",
      "🔹 Processing DeepGlobe...\n"
     ]
    },
    {
     "name": "stderr",
     "output_type": "stream",
     "text": [
      "100%|██████████| 6226/6226 [15:02<00:00,  6.90it/s]\n"
     ]
    },
    {
     "name": "stdout",
     "output_type": "stream",
     "text": [
      "🔹 Processing Massachusetts...\n"
     ]
    },
    {
     "name": "stderr",
     "output_type": "stream",
     "text": [
      "100%|██████████| 1108/1108 [08:46<00:00,  2.11it/s]\n",
      "100%|██████████| 14/14 [00:05<00:00,  2.45it/s]\n",
      "100%|██████████| 49/49 [00:26<00:00,  1.87it/s]"
     ]
    },
    {
     "name": "stdout",
     "output_type": "stream",
     "text": [
      "✅ Massachusetts processing complete.\n",
      "\n",
      "✅ Done! Dataset prepared in `D:\\DLinkNet\\dataset` folder.\n",
      "📄 CSV split info saved at: D:\\DLinkNet\\dataset\\split.csv\n"
     ]
    },
    {
     "name": "stderr",
     "output_type": "stream",
     "text": [
      "\n"
     ]
    }
   ],
   "source": [
    "def main():\n",
    "    print(\"🚀 Starting dataset preparation...\")\n",
    "    with open(CSV_PATH, mode='w', newline='') as csvfile:\n",
    "        fieldnames = ['filename', 'maskname', 'split']\n",
    "        writer = csv.DictWriter(csvfile, fieldnames=fieldnames)\n",
    "        writer.writeheader()\n",
    "\n",
    "        deepglobe(writer)\n",
    "        massachusetts(writer)\n",
    "\n",
    "    print(f\"\\n✅ Done! Dataset prepared in `{OUTPUT_DIR}` folder.\")\n",
    "    print(f\"📄 CSV split info saved at: {CSV_PATH}\")\n",
    "\n",
    "if __name__ == \"__main__\":\n",
    "    main()"
   ]
  }
 ],
 "metadata": {
  "kernelspec": {
   "display_name": "Python 3",
   "language": "python",
   "name": "python3"
  },
  "language_info": {
   "codemirror_mode": {
    "name": "ipython",
    "version": 3
   },
   "file_extension": ".py",
   "mimetype": "text/x-python",
   "name": "python",
   "nbconvert_exporter": "python",
   "pygments_lexer": "ipython3",
   "version": "3.13.3"
  }
 },
 "nbformat": 4,
 "nbformat_minor": 5
}
