{
 "cells": [
  {
   "cell_type": "code",
   "execution_count": null,
   "id": "346d3c10",
   "metadata": {},
   "outputs": [],
   "source": [
    "import os\n",
    "import torch\n",
    "import time\n",
    "import torch.nn as nn\n",
    "from torch.utils.tensorboard import SummaryWriter\n",
    "from torch.utils.data import DataLoader\n",
    "from tqdm import tqdm\n",
    "\n",
    "from model.dlinknet3 import DLinkNet34\n",
    "from data.dataset import RoadDatasetLegacyAugment\n",
    "from loss.loss import bce_dice_loss\n",
    "from utils.early_stopping import EarlyStopping\n",
    "from utils.save_load import save_model\n",
    "from config.optimizer import get_optimizer, get_scheduler\n",
    "from utils.metrics import compute_metrics"
   ]
  },
  {
   "cell_type": "code",
   "execution_count": 2,
   "id": "ad4fffd2",
   "metadata": {},
   "outputs": [],
   "source": [
    "device = torch.device(\"cuda\" if torch.cuda.is_available() else \"cpu\")"
   ]
  },
  {
   "cell_type": "code",
   "execution_count": null,
   "id": "bb4c174d",
   "metadata": {},
   "outputs": [],
   "source": [
    "# === Cấu hình ===\n",
    "batch_size = 4\n",
    "num_epochs = 50\n",
    "lr = 1e-4\n",
    "log_dir = 'logs'\n",
    "model_path = 'checkpoints/dlinknet_model_best.pth'\n",
    "csv_path = 'data/1024/split.csv'\n",
    "image_dir = 'data/1024/images'\n",
    "mask_dir = 'data/1024/masks'"
   ]
  },
  {
   "cell_type": "code",
   "execution_count": 4,
   "id": "bd19202a",
   "metadata": {},
   "outputs": [],
   "source": [
    "# === Dataloader ===\n",
    "train_dataset = RoadDatasetLegacyAugment(csv_path, image_dir, mask_dir, split='train', augment=True)\n",
    "val_dataset = RoadDatasetLegacyAugment(csv_path, image_dir, mask_dir, split='val', augment=False)\n",
    "train_loader = DataLoader(train_dataset, batch_size=batch_size, shuffle=True, num_workers=4)\n",
    "val_loader = DataLoader(val_dataset, batch_size=batch_size, shuffle=False, num_workers=4)"
   ]
  },
  {
   "cell_type": "code",
   "execution_count": 5,
   "id": "4b537808",
   "metadata": {},
   "outputs": [
    {
     "name": "stderr",
     "output_type": "stream",
     "text": [
      "C:\\Users\\Admin\\AppData\\Local\\Packages\\PythonSoftwareFoundation.Python.3.13_qbz5n2kfra8p0\\LocalCache\\local-packages\\Python313\\site-packages\\torchvision\\models\\_utils.py:208: UserWarning: The parameter 'pretrained' is deprecated since 0.13 and may be removed in the future, please use 'weights' instead.\n",
      "  warnings.warn(\n",
      "C:\\Users\\Admin\\AppData\\Local\\Packages\\PythonSoftwareFoundation.Python.3.13_qbz5n2kfra8p0\\LocalCache\\local-packages\\Python313\\site-packages\\torchvision\\models\\_utils.py:223: UserWarning: Arguments other than a weight enum or `None` for 'weights' are deprecated since 0.13 and may be removed in the future. The current behavior is equivalent to passing `weights=ResNet34_Weights.IMAGENET1K_V1`. You can also use `weights=ResNet34_Weights.DEFAULT` to get the most up-to-date weights.\n",
      "  warnings.warn(msg)\n",
      "C:\\Users\\Admin\\AppData\\Local\\Packages\\PythonSoftwareFoundation.Python.3.13_qbz5n2kfra8p0\\LocalCache\\local-packages\\Python313\\site-packages\\torch\\optim\\lr_scheduler.py:62: UserWarning: The verbose parameter is deprecated. Please use get_last_lr() to access the learning rate.\n",
      "  warnings.warn(\n"
     ]
    }
   ],
   "source": [
    "# === Model, Loss, Optimizer ===\n",
    "model = DLinkNet34(num_classes=1).to(device)\n",
    "optimizer = get_optimizer(model, lr)\n",
    "scheduler = get_scheduler(optimizer, mode='min')\n",
    "early_stopping = EarlyStopping(patience=10, mode='min')  # chuyển sang mode='max' nếu early stopping chọn theo dice"
   ]
  },
  {
   "cell_type": "code",
   "execution_count": 6,
   "id": "267128bf",
   "metadata": {},
   "outputs": [],
   "source": [
    "# === Logger ===\n",
    "writer = SummaryWriter(log_dir)\n",
    "log_txt = open(os.path.join(log_dir, 'train_log.txt'), 'w')"
   ]
  },
  {
   "cell_type": "code",
   "execution_count": 7,
   "id": "8c5d7495",
   "metadata": {},
   "outputs": [
    {
     "name": "stdout",
     "output_type": "stream",
     "text": [
      "\n",
      "🟢 Epoch [1/50]\n"
     ]
    },
    {
     "name": "stderr",
     "output_type": "stream",
     "text": [
      "Training: 100%|██████████| 1295/1295 [05:02<00:00,  4.28it/s]\n",
      "Validation: 100%|██████████| 278/278 [00:29<00:00,  9.44it/s]\n"
     ]
    },
    {
     "name": "stdout",
     "output_type": "stream",
     "text": [
      "🔹 Train Loss: 0.6345 | Val Loss: 0.4631 | Dice: 0.6597 | IoU: 0.5112 | mIoU: 0.7404\n",
      "✅ Model improved. Saved.\n",
      "\n",
      "🟢 Epoch [2/50]\n"
     ]
    },
    {
     "name": "stderr",
     "output_type": "stream",
     "text": [
      "Training: 100%|██████████| 1295/1295 [05:04<00:00,  4.25it/s]\n",
      "Validation: 100%|██████████| 278/278 [00:29<00:00,  9.39it/s]\n"
     ]
    },
    {
     "name": "stdout",
     "output_type": "stream",
     "text": [
      "🔹 Train Loss: 0.4757 | Val Loss: 0.4308 | Dice: 0.6807 | IoU: 0.5342 | mIoU: 0.7534\n",
      "✅ Model improved. Saved.\n",
      "\n",
      "🟢 Epoch [3/50]\n"
     ]
    },
    {
     "name": "stderr",
     "output_type": "stream",
     "text": [
      "Training: 100%|██████████| 1295/1295 [05:04<00:00,  4.25it/s]\n",
      "Validation: 100%|██████████| 278/278 [00:29<00:00,  9.49it/s]\n"
     ]
    },
    {
     "name": "stdout",
     "output_type": "stream",
     "text": [
      "🔹 Train Loss: 0.4527 | Val Loss: 0.4276 | Dice: 0.6824 | IoU: 0.5384 | mIoU: 0.7557\n",
      "✅ Model improved. Saved.\n",
      "\n",
      "🟢 Epoch [4/50]\n"
     ]
    },
    {
     "name": "stderr",
     "output_type": "stream",
     "text": [
      "Training: 100%|██████████| 1295/1295 [05:04<00:00,  4.25it/s]\n",
      "Validation: 100%|██████████| 278/278 [00:29<00:00,  9.50it/s]\n"
     ]
    },
    {
     "name": "stdout",
     "output_type": "stream",
     "text": [
      "🔹 Train Loss: 0.4374 | Val Loss: 0.4226 | Dice: 0.6862 | IoU: 0.5413 | mIoU: 0.7571\n",
      "✅ Model improved. Saved.\n",
      "\n",
      "🟢 Epoch [5/50]\n"
     ]
    },
    {
     "name": "stderr",
     "output_type": "stream",
     "text": [
      "Training: 100%|██████████| 1295/1295 [05:04<00:00,  4.25it/s]\n",
      "Validation: 100%|██████████| 278/278 [00:29<00:00,  9.48it/s]\n"
     ]
    },
    {
     "name": "stdout",
     "output_type": "stream",
     "text": [
      "🔹 Train Loss: 0.4238 | Val Loss: 0.4141 | Dice: 0.6916 | IoU: 0.5506 | mIoU: 0.7623\n",
      "✅ Model improved. Saved.\n",
      "\n",
      "🟢 Epoch [6/50]\n"
     ]
    },
    {
     "name": "stderr",
     "output_type": "stream",
     "text": [
      "Training: 100%|██████████| 1295/1295 [05:03<00:00,  4.26it/s]\n",
      "Validation: 100%|██████████| 278/278 [00:29<00:00,  9.55it/s]\n"
     ]
    },
    {
     "name": "stdout",
     "output_type": "stream",
     "text": [
      "🔹 Train Loss: 0.4149 | Val Loss: 0.4130 | Dice: 0.6907 | IoU: 0.5504 | mIoU: 0.7626\n",
      "\n",
      "🟢 Epoch [7/50]\n"
     ]
    },
    {
     "name": "stderr",
     "output_type": "stream",
     "text": [
      "Training: 100%|██████████| 1295/1295 [05:04<00:00,  4.26it/s]\n",
      "Validation: 100%|██████████| 278/278 [00:29<00:00,  9.52it/s]\n"
     ]
    },
    {
     "name": "stdout",
     "output_type": "stream",
     "text": [
      "🔹 Train Loss: 0.4096 | Val Loss: 0.3991 | Dice: 0.7026 | IoU: 0.5616 | mIoU: 0.7688\n",
      "✅ Model improved. Saved.\n",
      "\n",
      "🟢 Epoch [8/50]\n"
     ]
    },
    {
     "name": "stderr",
     "output_type": "stream",
     "text": [
      "Training: 100%|██████████| 1295/1295 [05:03<00:00,  4.27it/s]\n",
      "Validation: 100%|██████████| 278/278 [00:29<00:00,  9.49it/s]\n"
     ]
    },
    {
     "name": "stdout",
     "output_type": "stream",
     "text": [
      "🔹 Train Loss: 0.4017 | Val Loss: 0.3982 | Dice: 0.7013 | IoU: 0.5592 | mIoU: 0.7676\n",
      "\n",
      "🟢 Epoch [9/50]\n"
     ]
    },
    {
     "name": "stderr",
     "output_type": "stream",
     "text": [
      "Training: 100%|██████████| 1295/1295 [05:03<00:00,  4.26it/s]\n",
      "Validation: 100%|██████████| 278/278 [00:29<00:00,  9.50it/s]\n"
     ]
    },
    {
     "name": "stdout",
     "output_type": "stream",
     "text": [
      "🔹 Train Loss: 0.3986 | Val Loss: 0.3878 | Dice: 0.7096 | IoU: 0.5703 | mIoU: 0.7733\n",
      "✅ Model improved. Saved.\n",
      "\n",
      "🟢 Epoch [10/50]\n"
     ]
    },
    {
     "name": "stderr",
     "output_type": "stream",
     "text": [
      "Training: 100%|██████████| 1295/1295 [05:04<00:00,  4.25it/s]\n",
      "Validation: 100%|██████████| 278/278 [00:29<00:00,  9.45it/s]\n"
     ]
    },
    {
     "name": "stdout",
     "output_type": "stream",
     "text": [
      "🔹 Train Loss: 0.3947 | Val Loss: 0.3950 | Dice: 0.7079 | IoU: 0.5670 | mIoU: 0.7704\n",
      "\n",
      "🟢 Epoch [11/50]\n"
     ]
    },
    {
     "name": "stderr",
     "output_type": "stream",
     "text": [
      "Training: 100%|██████████| 1295/1295 [05:03<00:00,  4.27it/s]\n",
      "Validation: 100%|██████████| 278/278 [00:29<00:00,  9.49it/s]\n"
     ]
    },
    {
     "name": "stdout",
     "output_type": "stream",
     "text": [
      "🔹 Train Loss: 0.3913 | Val Loss: 0.3786 | Dice: 0.7171 | IoU: 0.5787 | mIoU: 0.7773\n",
      "✅ Model improved. Saved.\n",
      "\n",
      "🟢 Epoch [12/50]\n"
     ]
    },
    {
     "name": "stderr",
     "output_type": "stream",
     "text": [
      "Training: 100%|██████████| 1295/1295 [05:04<00:00,  4.25it/s]\n",
      "Validation: 100%|██████████| 278/278 [00:29<00:00,  9.51it/s]\n"
     ]
    },
    {
     "name": "stdout",
     "output_type": "stream",
     "text": [
      "🔹 Train Loss: 0.3880 | Val Loss: 0.3970 | Dice: 0.7021 | IoU: 0.5626 | mIoU: 0.7696\n",
      "\n",
      "🟢 Epoch [13/50]\n"
     ]
    },
    {
     "name": "stderr",
     "output_type": "stream",
     "text": [
      "Training: 100%|██████████| 1295/1295 [05:04<00:00,  4.25it/s]\n",
      "Validation: 100%|██████████| 278/278 [00:29<00:00,  9.51it/s]\n"
     ]
    },
    {
     "name": "stdout",
     "output_type": "stream",
     "text": [
      "🔹 Train Loss: 0.3842 | Val Loss: 0.4094 | Dice: 0.6899 | IoU: 0.5500 | mIoU: 0.7631\n",
      "\n",
      "🟢 Epoch [14/50]\n"
     ]
    },
    {
     "name": "stderr",
     "output_type": "stream",
     "text": [
      "Training: 100%|██████████| 1295/1295 [05:04<00:00,  4.25it/s]\n",
      "Validation: 100%|██████████| 278/278 [00:29<00:00,  9.51it/s]\n"
     ]
    },
    {
     "name": "stdout",
     "output_type": "stream",
     "text": [
      "🔹 Train Loss: 0.3841 | Val Loss: 0.3809 | Dice: 0.7143 | IoU: 0.5760 | mIoU: 0.7763\n",
      "\n",
      "🟢 Epoch [15/50]\n"
     ]
    },
    {
     "name": "stderr",
     "output_type": "stream",
     "text": [
      "Training: 100%|██████████| 1295/1295 [05:02<00:00,  4.27it/s]\n",
      "Validation: 100%|██████████| 278/278 [00:29<00:00,  9.48it/s]\n"
     ]
    },
    {
     "name": "stdout",
     "output_type": "stream",
     "text": [
      "🔹 Train Loss: 0.3776 | Val Loss: 0.3957 | Dice: 0.7032 | IoU: 0.5645 | mIoU: 0.7707\n",
      "\n",
      "🟢 Epoch [16/50]\n"
     ]
    },
    {
     "name": "stderr",
     "output_type": "stream",
     "text": [
      "Training: 100%|██████████| 1295/1295 [05:03<00:00,  4.27it/s]\n",
      "Validation: 100%|██████████| 278/278 [00:29<00:00,  9.51it/s]\n"
     ]
    },
    {
     "name": "stdout",
     "output_type": "stream",
     "text": [
      "🔹 Train Loss: 0.3777 | Val Loss: 0.3694 | Dice: 0.7222 | IoU: 0.5858 | mIoU: 0.7816\n",
      "✅ Model improved. Saved.\n",
      "\n",
      "🟢 Epoch [17/50]\n"
     ]
    },
    {
     "name": "stderr",
     "output_type": "stream",
     "text": [
      "Training: 100%|██████████| 1295/1295 [05:03<00:00,  4.27it/s]\n",
      "Validation: 100%|██████████| 278/278 [00:29<00:00,  9.47it/s]\n"
     ]
    },
    {
     "name": "stdout",
     "output_type": "stream",
     "text": [
      "🔹 Train Loss: 0.3733 | Val Loss: 0.3814 | Dice: 0.7152 | IoU: 0.5769 | mIoU: 0.7763\n",
      "\n",
      "🟢 Epoch [18/50]\n"
     ]
    },
    {
     "name": "stderr",
     "output_type": "stream",
     "text": [
      "Training: 100%|██████████| 1295/1295 [05:04<00:00,  4.26it/s]\n",
      "Validation: 100%|██████████| 278/278 [00:29<00:00,  9.48it/s]\n"
     ]
    },
    {
     "name": "stdout",
     "output_type": "stream",
     "text": [
      "🔹 Train Loss: 0.3686 | Val Loss: 0.3715 | Dice: 0.7216 | IoU: 0.5844 | mIoU: 0.7807\n",
      "\n",
      "🟢 Epoch [19/50]\n"
     ]
    },
    {
     "name": "stderr",
     "output_type": "stream",
     "text": [
      "Training: 100%|██████████| 1295/1295 [05:03<00:00,  4.27it/s]\n",
      "Validation: 100%|██████████| 278/278 [00:29<00:00,  9.49it/s]\n"
     ]
    },
    {
     "name": "stdout",
     "output_type": "stream",
     "text": [
      "🔹 Train Loss: 0.3705 | Val Loss: 0.3826 | Dice: 0.7114 | IoU: 0.5738 | mIoU: 0.7752\n",
      "\n",
      "🟢 Epoch [20/50]\n"
     ]
    },
    {
     "name": "stderr",
     "output_type": "stream",
     "text": [
      "Training: 100%|██████████| 1295/1295 [05:03<00:00,  4.27it/s]\n",
      "Validation: 100%|██████████| 278/278 [00:29<00:00,  9.43it/s]\n"
     ]
    },
    {
     "name": "stdout",
     "output_type": "stream",
     "text": [
      "🔹 Train Loss: 0.3679 | Val Loss: 0.3802 | Dice: 0.7143 | IoU: 0.5763 | mIoU: 0.7767\n",
      "\n",
      "🟢 Epoch [21/50]\n"
     ]
    },
    {
     "name": "stderr",
     "output_type": "stream",
     "text": [
      "Training: 100%|██████████| 1295/1295 [05:03<00:00,  4.26it/s]\n",
      "Validation: 100%|██████████| 278/278 [00:29<00:00,  9.48it/s]\n"
     ]
    },
    {
     "name": "stdout",
     "output_type": "stream",
     "text": [
      "🔹 Train Loss: 0.3665 | Val Loss: 0.3665 | Dice: 0.7254 | IoU: 0.5895 | mIoU: 0.7835\n",
      "✅ Model improved. Saved.\n",
      "\n",
      "🟢 Epoch [22/50]\n"
     ]
    },
    {
     "name": "stderr",
     "output_type": "stream",
     "text": [
      "Training: 100%|██████████| 1295/1295 [05:03<00:00,  4.26it/s]\n",
      "Validation: 100%|██████████| 278/278 [00:29<00:00,  9.47it/s]\n"
     ]
    },
    {
     "name": "stdout",
     "output_type": "stream",
     "text": [
      "🔹 Train Loss: 0.3637 | Val Loss: 0.3689 | Dice: 0.7231 | IoU: 0.5875 | mIoU: 0.7826\n",
      "\n",
      "🟢 Epoch [23/50]\n"
     ]
    },
    {
     "name": "stderr",
     "output_type": "stream",
     "text": [
      "Training: 100%|██████████| 1295/1295 [05:04<00:00,  4.26it/s]\n",
      "Validation: 100%|██████████| 278/278 [00:29<00:00,  9.44it/s]\n"
     ]
    },
    {
     "name": "stdout",
     "output_type": "stream",
     "text": [
      "🔹 Train Loss: 0.3604 | Val Loss: 0.3677 | Dice: 0.7242 | IoU: 0.5879 | mIoU: 0.7825\n",
      "\n",
      "🟢 Epoch [24/50]\n"
     ]
    },
    {
     "name": "stderr",
     "output_type": "stream",
     "text": [
      "Training: 100%|██████████| 1295/1295 [05:03<00:00,  4.26it/s]\n",
      "Validation: 100%|██████████| 278/278 [00:29<00:00,  9.46it/s]\n"
     ]
    },
    {
     "name": "stdout",
     "output_type": "stream",
     "text": [
      "🔹 Train Loss: 0.3616 | Val Loss: 0.3671 | Dice: 0.7255 | IoU: 0.5903 | mIoU: 0.7840\n",
      "✅ Model improved. Saved.\n",
      "\n",
      "🟢 Epoch [25/50]\n"
     ]
    },
    {
     "name": "stderr",
     "output_type": "stream",
     "text": [
      "Training: 100%|██████████| 1295/1295 [05:03<00:00,  4.26it/s]\n",
      "Validation: 100%|██████████| 278/278 [00:29<00:00,  9.44it/s]\n"
     ]
    },
    {
     "name": "stdout",
     "output_type": "stream",
     "text": [
      "🔹 Train Loss: 0.3606 | Val Loss: 0.3596 | Dice: 0.7296 | IoU: 0.5943 | mIoU: 0.7862\n",
      "✅ Model improved. Saved.\n",
      "\n",
      "🟢 Epoch [26/50]\n"
     ]
    },
    {
     "name": "stderr",
     "output_type": "stream",
     "text": [
      "Training: 100%|██████████| 1295/1295 [05:02<00:00,  4.28it/s]\n",
      "Validation: 100%|██████████| 278/278 [00:29<00:00,  9.47it/s]\n"
     ]
    },
    {
     "name": "stdout",
     "output_type": "stream",
     "text": [
      "🔹 Train Loss: 0.3571 | Val Loss: 0.3647 | Dice: 0.7254 | IoU: 0.5897 | mIoU: 0.7838\n",
      "\n",
      "🟢 Epoch [27/50]\n"
     ]
    },
    {
     "name": "stderr",
     "output_type": "stream",
     "text": [
      "Training: 100%|██████████| 1295/1295 [05:03<00:00,  4.27it/s]\n",
      "Validation: 100%|██████████| 278/278 [00:29<00:00,  9.39it/s]\n"
     ]
    },
    {
     "name": "stdout",
     "output_type": "stream",
     "text": [
      "🔹 Train Loss: 0.3571 | Val Loss: 0.3584 | Dice: 0.7311 | IoU: 0.5967 | mIoU: 0.7875\n",
      "✅ Model improved. Saved.\n",
      "\n",
      "🟢 Epoch [28/50]\n"
     ]
    },
    {
     "name": "stderr",
     "output_type": "stream",
     "text": [
      "Training: 100%|██████████| 1295/1295 [05:03<00:00,  4.26it/s]\n",
      "Validation: 100%|██████████| 278/278 [00:29<00:00,  9.50it/s]\n"
     ]
    },
    {
     "name": "stdout",
     "output_type": "stream",
     "text": [
      "🔹 Train Loss: 0.3535 | Val Loss: 0.3654 | Dice: 0.7233 | IoU: 0.5876 | mIoU: 0.7829\n",
      "\n",
      "🟢 Epoch [29/50]\n"
     ]
    },
    {
     "name": "stderr",
     "output_type": "stream",
     "text": [
      "Training: 100%|██████████| 1295/1295 [05:04<00:00,  4.26it/s]\n",
      "Validation: 100%|██████████| 278/278 [00:29<00:00,  9.48it/s]\n"
     ]
    },
    {
     "name": "stdout",
     "output_type": "stream",
     "text": [
      "🔹 Train Loss: 0.3514 | Val Loss: 0.3704 | Dice: 0.7215 | IoU: 0.5853 | mIoU: 0.7811\n",
      "\n",
      "🟢 Epoch [30/50]\n"
     ]
    },
    {
     "name": "stderr",
     "output_type": "stream",
     "text": [
      "Training: 100%|██████████| 1295/1295 [05:03<00:00,  4.27it/s]\n",
      "Validation: 100%|██████████| 278/278 [00:29<00:00,  9.52it/s]\n"
     ]
    },
    {
     "name": "stdout",
     "output_type": "stream",
     "text": [
      "🔹 Train Loss: 0.3496 | Val Loss: 0.3557 | Dice: 0.7324 | IoU: 0.5983 | mIoU: 0.7882\n",
      "✅ Model improved. Saved.\n",
      "\n",
      "🟢 Epoch [31/50]\n"
     ]
    },
    {
     "name": "stderr",
     "output_type": "stream",
     "text": [
      "Training: 100%|██████████| 1295/1295 [05:03<00:00,  4.26it/s]\n",
      "Validation: 100%|██████████| 278/278 [00:29<00:00,  9.52it/s]\n"
     ]
    },
    {
     "name": "stdout",
     "output_type": "stream",
     "text": [
      "🔹 Train Loss: 0.3486 | Val Loss: 0.3575 | Dice: 0.7310 | IoU: 0.5975 | mIoU: 0.7878\n",
      "\n",
      "🟢 Epoch [32/50]\n"
     ]
    },
    {
     "name": "stderr",
     "output_type": "stream",
     "text": [
      "Training: 100%|██████████| 1295/1295 [05:03<00:00,  4.26it/s]\n",
      "Validation: 100%|██████████| 278/278 [00:29<00:00,  9.50it/s]\n"
     ]
    },
    {
     "name": "stdout",
     "output_type": "stream",
     "text": [
      "🔹 Train Loss: 0.3518 | Val Loss: 0.3576 | Dice: 0.7311 | IoU: 0.5965 | mIoU: 0.7873\n",
      "\n",
      "🟢 Epoch [33/50]\n"
     ]
    },
    {
     "name": "stderr",
     "output_type": "stream",
     "text": [
      "Training: 100%|██████████| 1295/1295 [05:04<00:00,  4.26it/s]\n",
      "Validation: 100%|██████████| 278/278 [00:29<00:00,  9.49it/s]\n"
     ]
    },
    {
     "name": "stdout",
     "output_type": "stream",
     "text": [
      "🔹 Train Loss: 0.3470 | Val Loss: 0.3664 | Dice: 0.7240 | IoU: 0.5886 | mIoU: 0.7834\n",
      "\n",
      "🟢 Epoch [34/50]\n"
     ]
    },
    {
     "name": "stderr",
     "output_type": "stream",
     "text": [
      "Training: 100%|██████████| 1295/1295 [05:04<00:00,  4.26it/s]\n",
      "Validation: 100%|██████████| 278/278 [00:29<00:00,  9.49it/s]\n"
     ]
    },
    {
     "name": "stdout",
     "output_type": "stream",
     "text": [
      "🔹 Train Loss: 0.3483 | Val Loss: 0.3538 | Dice: 0.7340 | IoU: 0.6005 | mIoU: 0.7891\n",
      "✅ Model improved. Saved.\n",
      "\n",
      "🟢 Epoch [35/50]\n"
     ]
    },
    {
     "name": "stderr",
     "output_type": "stream",
     "text": [
      "Training: 100%|██████████| 1295/1295 [05:04<00:00,  4.25it/s]\n",
      "Validation: 100%|██████████| 278/278 [00:29<00:00,  9.51it/s]\n"
     ]
    },
    {
     "name": "stdout",
     "output_type": "stream",
     "text": [
      "🔹 Train Loss: 0.3463 | Val Loss: 0.3541 | Dice: 0.7343 | IoU: 0.5999 | mIoU: 0.7888\n",
      "✅ Model improved. Saved.\n",
      "\n",
      "🟢 Epoch [36/50]\n"
     ]
    },
    {
     "name": "stderr",
     "output_type": "stream",
     "text": [
      "Training: 100%|██████████| 1295/1295 [05:04<00:00,  4.25it/s]\n",
      "Validation: 100%|██████████| 278/278 [00:29<00:00,  9.49it/s]\n"
     ]
    },
    {
     "name": "stdout",
     "output_type": "stream",
     "text": [
      "🔹 Train Loss: 0.3455 | Val Loss: 0.3522 | Dice: 0.7352 | IoU: 0.6017 | mIoU: 0.7900\n",
      "✅ Model improved. Saved.\n",
      "\n",
      "🟢 Epoch [37/50]\n"
     ]
    },
    {
     "name": "stderr",
     "output_type": "stream",
     "text": [
      "Training: 100%|██████████| 1295/1295 [05:03<00:00,  4.27it/s]\n",
      "Validation: 100%|██████████| 278/278 [00:29<00:00,  9.52it/s]\n"
     ]
    },
    {
     "name": "stdout",
     "output_type": "stream",
     "text": [
      "🔹 Train Loss: 0.3405 | Val Loss: 0.3562 | Dice: 0.7299 | IoU: 0.5969 | mIoU: 0.7877\n",
      "\n",
      "🟢 Epoch [38/50]\n"
     ]
    },
    {
     "name": "stderr",
     "output_type": "stream",
     "text": [
      "Training: 100%|██████████| 1295/1295 [05:02<00:00,  4.28it/s]\n",
      "Validation: 100%|██████████| 278/278 [00:28<00:00,  9.66it/s]\n"
     ]
    },
    {
     "name": "stdout",
     "output_type": "stream",
     "text": [
      "🔹 Train Loss: 0.3450 | Val Loss: 0.3590 | Dice: 0.7285 | IoU: 0.5957 | mIoU: 0.7870\n",
      "\n",
      "🟢 Epoch [39/50]\n"
     ]
    },
    {
     "name": "stderr",
     "output_type": "stream",
     "text": [
      "Training: 100%|██████████| 1295/1295 [05:04<00:00,  4.25it/s]\n",
      "Validation: 100%|██████████| 278/278 [00:29<00:00,  9.50it/s]\n"
     ]
    },
    {
     "name": "stdout",
     "output_type": "stream",
     "text": [
      "🔹 Train Loss: 0.3402 | Val Loss: 0.3651 | Dice: 0.7265 | IoU: 0.5920 | mIoU: 0.7843\n",
      "\n",
      "🟢 Epoch [40/50]\n"
     ]
    },
    {
     "name": "stderr",
     "output_type": "stream",
     "text": [
      "Training: 100%|██████████| 1295/1295 [05:03<00:00,  4.26it/s]\n",
      "Validation: 100%|██████████| 278/278 [00:29<00:00,  9.48it/s]\n"
     ]
    },
    {
     "name": "stdout",
     "output_type": "stream",
     "text": [
      "🔹 Train Loss: 0.3379 | Val Loss: 0.3535 | Dice: 0.7335 | IoU: 0.5995 | mIoU: 0.7889\n",
      "\n",
      "🟢 Epoch [41/50]\n"
     ]
    },
    {
     "name": "stderr",
     "output_type": "stream",
     "text": [
      "Training: 100%|██████████| 1295/1295 [05:02<00:00,  4.28it/s]\n",
      "Validation: 100%|██████████| 278/278 [00:29<00:00,  9.53it/s]\n"
     ]
    },
    {
     "name": "stdout",
     "output_type": "stream",
     "text": [
      "🔹 Train Loss: 0.3410 | Val Loss: 0.3563 | Dice: 0.7318 | IoU: 0.5988 | mIoU: 0.7886\n",
      "\n",
      "🟢 Epoch [42/50]\n"
     ]
    },
    {
     "name": "stderr",
     "output_type": "stream",
     "text": [
      "Training: 100%|██████████| 1295/1295 [05:04<00:00,  4.26it/s]\n",
      "Validation: 100%|██████████| 278/278 [00:29<00:00,  9.51it/s]\n"
     ]
    },
    {
     "name": "stdout",
     "output_type": "stream",
     "text": [
      "🔹 Train Loss: 0.3386 | Val Loss: 0.3556 | Dice: 0.7327 | IoU: 0.5979 | mIoU: 0.7878\n",
      "\n",
      "🟢 Epoch [43/50]\n"
     ]
    },
    {
     "name": "stderr",
     "output_type": "stream",
     "text": [
      "Training: 100%|██████████| 1295/1295 [05:04<00:00,  4.25it/s]\n",
      "Validation: 100%|██████████| 278/278 [00:29<00:00,  9.42it/s]\n"
     ]
    },
    {
     "name": "stdout",
     "output_type": "stream",
     "text": [
      "🔹 Train Loss: 0.3289 | Val Loss: 0.3505 | Dice: 0.7346 | IoU: 0.6028 | mIoU: 0.7908\n",
      "\n",
      "🟢 Epoch [44/50]\n"
     ]
    },
    {
     "name": "stderr",
     "output_type": "stream",
     "text": [
      "Training: 100%|██████████| 1295/1295 [05:04<00:00,  4.25it/s]\n",
      "Validation: 100%|██████████| 278/278 [00:29<00:00,  9.43it/s]\n"
     ]
    },
    {
     "name": "stdout",
     "output_type": "stream",
     "text": [
      "🔹 Train Loss: 0.3222 | Val Loss: 0.3436 | Dice: 0.7413 | IoU: 0.6090 | mIoU: 0.7938\n",
      "✅ Model improved. Saved.\n",
      "\n",
      "🟢 Epoch [45/50]\n"
     ]
    },
    {
     "name": "stderr",
     "output_type": "stream",
     "text": [
      "Training: 100%|██████████| 1295/1295 [05:03<00:00,  4.27it/s]\n",
      "Validation: 100%|██████████| 278/278 [00:29<00:00,  9.47it/s]\n"
     ]
    },
    {
     "name": "stdout",
     "output_type": "stream",
     "text": [
      "🔹 Train Loss: 0.3208 | Val Loss: 0.3408 | Dice: 0.7430 | IoU: 0.6121 | mIoU: 0.7955\n",
      "✅ Model improved. Saved.\n",
      "\n",
      "🟢 Epoch [46/50]\n"
     ]
    },
    {
     "name": "stderr",
     "output_type": "stream",
     "text": [
      "Training: 100%|██████████| 1295/1295 [05:02<00:00,  4.28it/s]\n",
      "Validation: 100%|██████████| 278/278 [00:29<00:00,  9.51it/s]\n"
     ]
    },
    {
     "name": "stdout",
     "output_type": "stream",
     "text": [
      "🔹 Train Loss: 0.3197 | Val Loss: 0.3450 | Dice: 0.7395 | IoU: 0.6081 | mIoU: 0.7938\n",
      "\n",
      "🟢 Epoch [47/50]\n"
     ]
    },
    {
     "name": "stderr",
     "output_type": "stream",
     "text": [
      "Training: 100%|██████████| 1295/1295 [05:04<00:00,  4.25it/s]\n",
      "Validation: 100%|██████████| 278/278 [00:29<00:00,  9.49it/s]\n"
     ]
    },
    {
     "name": "stdout",
     "output_type": "stream",
     "text": [
      "🔹 Train Loss: 0.3178 | Val Loss: 0.3455 | Dice: 0.7392 | IoU: 0.6086 | mIoU: 0.7938\n",
      "\n",
      "🟢 Epoch [48/50]\n"
     ]
    },
    {
     "name": "stderr",
     "output_type": "stream",
     "text": [
      "Training: 100%|██████████| 1295/1295 [05:04<00:00,  4.25it/s]\n",
      "Validation: 100%|██████████| 278/278 [00:29<00:00,  9.46it/s]\n"
     ]
    },
    {
     "name": "stdout",
     "output_type": "stream",
     "text": [
      "🔹 Train Loss: 0.3168 | Val Loss: 0.3417 | Dice: 0.7422 | IoU: 0.6120 | mIoU: 0.7956\n",
      "\n",
      "🟢 Epoch [49/50]\n"
     ]
    },
    {
     "name": "stderr",
     "output_type": "stream",
     "text": [
      "Training: 100%|██████████| 1295/1295 [05:04<00:00,  4.25it/s]\n",
      "Validation: 100%|██████████| 278/278 [00:29<00:00,  9.44it/s]\n"
     ]
    },
    {
     "name": "stdout",
     "output_type": "stream",
     "text": [
      "🔹 Train Loss: 0.3170 | Val Loss: 0.3381 | Dice: 0.7450 | IoU: 0.6147 | mIoU: 0.7970\n",
      "✅ Model improved. Saved.\n",
      "\n",
      "🟢 Epoch [50/50]\n"
     ]
    },
    {
     "name": "stderr",
     "output_type": "stream",
     "text": [
      "Training: 100%|██████████| 1295/1295 [05:04<00:00,  4.25it/s]\n",
      "Validation: 100%|██████████| 278/278 [00:29<00:00,  9.44it/s]\n"
     ]
    },
    {
     "name": "stdout",
     "output_type": "stream",
     "text": [
      "🔹 Train Loss: 0.3146 | Val Loss: 0.3423 | Dice: 0.7424 | IoU: 0.6123 | mIoU: 0.7959\n",
      "🏁 Training completed.\n"
     ]
    }
   ],
   "source": [
    "# === Training Loop ===\n",
    "best_dice = 0.0\n",
    "for epoch in range(num_epochs):\n",
    "    print(f\"\\n🟢 Epoch [{epoch+1}/{num_epochs}]\")\n",
    "    model.train()\n",
    "    train_loss = 0\n",
    "\n",
    "    for imgs, masks in tqdm(train_loader, desc='Training'):\n",
    "        imgs, masks = imgs.to(device), masks.to(device)\n",
    "        optimizer.zero_grad()\n",
    "        outputs = model(imgs)\n",
    "        loss = bce_dice_loss(outputs, masks)\n",
    "        loss.backward()\n",
    "        optimizer.step()\n",
    "        train_loss += loss.item()\n",
    "\n",
    "    train_loss /= len(train_loader)\n",
    "\n",
    "    # === Validation ===\n",
    "    model.eval()\n",
    "    val_loss = 0\n",
    "    all_preds = []\n",
    "    all_masks = []\n",
    "\n",
    "    with torch.no_grad():\n",
    "        for imgs, masks in tqdm(val_loader, desc='Validation'):\n",
    "            imgs, masks = imgs.to(device), masks.to(device)\n",
    "            outputs = model(imgs)\n",
    "            loss = bce_dice_loss(outputs, masks)\n",
    "            val_loss += loss.item()\n",
    "\n",
    "            all_preds.append(outputs.cpu())\n",
    "            all_masks.append(masks.cpu())\n",
    "\n",
    "    val_loss /= len(val_loader)\n",
    "    all_preds = torch.cat(all_preds)\n",
    "    all_masks = torch.cat(all_masks)\n",
    "\n",
    "    val_dice, val_iou, val_miou = compute_metrics(all_preds, all_masks, threshold=0.5)\n",
    "\n",
    "    print(f\"🔹 Train Loss: {train_loss:.4f} | Val Loss: {val_loss:.4f} | Dice: {val_dice:.4f} | IoU: {val_iou:.4f} | mIoU: {val_miou:.4f}\")\n",
    "    log_txt.write(f\"Epoch {epoch+1}: train_loss={train_loss:.4f}, val_loss={val_loss:.4f}, dice={val_dice:.4f}, iou={val_iou:.4f}, mIoU: {val_miou:.4f}\\n\")\n",
    "\n",
    "    # === TensorBoard log ===\n",
    "    writer.add_scalar('Loss/train', train_loss, epoch)\n",
    "    writer.add_scalar('Loss/val', val_loss, epoch)\n",
    "    writer.add_scalar('Dice/val', val_dice, epoch)\n",
    "    writer.add_scalar('IoU/val', val_iou, epoch)\n",
    "    writer.add_scalar('mIoU/val', val_miou, epoch)\n",
    "\n",
    "    # === Scheduler + EarlyStopping ===\n",
    "    scheduler.step(val_loss)\n",
    "    early_stopping(val_loss, model)\n",
    "    if early_stopping.early_stop:\n",
    "        print(\"⛔ Early stopping triggered!\")\n",
    "        early_stopping.load_best_weights(model)\n",
    "        break\n",
    "\n",
    "    # === Save model if improved ===\n",
    "    if val_dice > best_dice:\n",
    "        best_dice = val_dice\n",
    "        os.makedirs(os.path.dirname(model_path), exist_ok=True)\n",
    "        save_model(model, model_path, epoch, best_dice)\n",
    "        print(\"✅ Model improved. Saved.\")\n",
    "\n",
    "log_txt.close()\n",
    "writer.close()\n",
    "print(\"🏁 Training completed.\")\n"
   ]
  }
 ],
 "metadata": {
  "kernelspec": {
   "display_name": "Python 3",
   "language": "python",
   "name": "python3"
  },
  "language_info": {
   "codemirror_mode": {
    "name": "ipython",
    "version": 3
   },
   "file_extension": ".py",
   "mimetype": "text/x-python",
   "name": "python",
   "nbconvert_exporter": "python",
   "pygments_lexer": "ipython3",
   "version": "3.13.3"
  }
 },
 "nbformat": 4,
 "nbformat_minor": 5
}
